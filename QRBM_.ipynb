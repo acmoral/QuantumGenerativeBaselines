{
  "cells": [
    {
      "cell_type": "markdown",
      "metadata": {
        "id": "view-in-github",
        "colab_type": "text"
      },
      "source": [
        "<a href=\"https://colab.research.google.com/github/acmoral/QuantumGenerativeBaselines/blob/master/QRBM_.ipynb\" target=\"_parent\"><img src=\"https://colab.research.google.com/assets/colab-badge.svg\" alt=\"Open In Colab\"/></a>"
      ]
    },
    {
      "cell_type": "markdown",
      "metadata": {
        "id": "r9jMfTP_z1kD"
      },
      "source": [
        "#QRBM for image reconstruction implementation"
      ]
    },
    {
      "cell_type": "markdown",
      "metadata": {
        "id": "u3GewPdWz-t_"
      },
      "source": [
        "\n",
        "Universidad Nacional de Colombia \\\\\n",
        "Sergio Quiroga Sandoval squirogas@unal.edu.co\n",
        "\n",
        "\n",
        "A complete reproduction of the QRBM implemented at https://github.com/mareksubocz/QRBM, and reported in the paper [1](https://cmst.eu/articles/applying-a-quantum-annealing-based-restricted-boltzmann-machine-for-mnist-handwritten-digit-classification/)"
      ]
    },
    {
      "cell_type": "markdown",
      "metadata": {
        "id": "QyJQAT4Q1Gus"
      },
      "source": [
        "### Cloning repository and imports:"
      ]
    },
    {
      "cell_type": "code",
      "execution_count": 1,
      "metadata": {
        "colab": {
          "base_uri": "https://localhost:8080/"
        },
        "id": "mhfzhNUk1LVs",
        "outputId": "e199d4c6-95a9-426a-ca90-d8e43f0f031c"
      },
      "outputs": [
        {
          "output_type": "stream",
          "name": "stdout",
          "text": [
            "Cloning into 'QRBM'...\n",
            "remote: Enumerating objects: 241, done.\u001b[K\n",
            "remote: Counting objects: 100% (5/5), done.\u001b[K\n",
            "remote: Compressing objects: 100% (5/5), done.\u001b[K\n",
            "remote: Total 241 (delta 2), reused 2 (delta 0), pack-reused 236 (from 1)\u001b[K\n",
            "Receiving objects: 100% (241/241), 23.10 MiB | 6.71 MiB/s, done.\n",
            "Resolving deltas: 100% (103/103), done.\n",
            "Collecting jupyter-drawing-pad (from -r QRBM/binder/requirements.txt (line 1))\n",
            "  Cloning https://github.com/mareksubocz/jupyter-drawing-pad.git to /tmp/pip-install-0m5y18ra/jupyter-drawing-pad_262008ff11a0445ab58d719c48d7c146\n",
            "  Running command git clone --filter=blob:none --quiet https://github.com/mareksubocz/jupyter-drawing-pad.git /tmp/pip-install-0m5y18ra/jupyter-drawing-pad_262008ff11a0445ab58d719c48d7c146\n",
            "  Resolved https://github.com/mareksubocz/jupyter-drawing-pad.git to commit 1553302be8791f735de9febc91b2f07b7819c030\n",
            "  Preparing metadata (setup.py) ... \u001b[?25l\u001b[?25hdone\n",
            "Requirement already satisfied: pillow in /usr/local/lib/python3.11/dist-packages (from -r QRBM/binder/requirements.txt (line 2)) (11.1.0)\n",
            "Requirement already satisfied: ipywidgets in /usr/local/lib/python3.11/dist-packages (from -r QRBM/binder/requirements.txt (line 3)) (7.7.1)\n",
            "Requirement already satisfied: matplotlib in /usr/local/lib/python3.11/dist-packages (from -r QRBM/binder/requirements.txt (line 4)) (3.10.0)\n",
            "Collecting dwave-ocean-sdk (from -r QRBM/binder/requirements.txt (line 5))\n",
            "  Downloading dwave_ocean_sdk-8.3.0-py3-none-any.whl.metadata (5.5 kB)\n",
            "Collecting jupyter (from -r QRBM/binder/requirements.txt (line 6))\n",
            "  Downloading jupyter-1.1.1-py2.py3-none-any.whl.metadata (2.0 kB)\n",
            "Requirement already satisfied: opencv-python in /usr/local/lib/python3.11/dist-packages (from -r QRBM/binder/requirements.txt (line 7)) (4.11.0.86)\n",
            "Requirement already satisfied: tqdm in /usr/local/lib/python3.11/dist-packages (from -r QRBM/binder/requirements.txt (line 8)) (4.67.1)\n",
            "Collecting voila (from -r QRBM/binder/requirements.txt (line 9))\n",
            "  Downloading voila-0.5.8-py3-none-any.whl.metadata (9.5 kB)\n",
            "Requirement already satisfied: widgetsnbextension>=3.1.0 in /usr/local/lib/python3.11/dist-packages (from jupyter-drawing-pad->-r QRBM/binder/requirements.txt (line 1)) (3.6.10)\n",
            "Requirement already satisfied: notebook>=5.3.0 in /usr/local/lib/python3.11/dist-packages (from jupyter-drawing-pad->-r QRBM/binder/requirements.txt (line 1)) (6.5.7)\n",
            "Requirement already satisfied: numpy in /usr/local/lib/python3.11/dist-packages (from jupyter-drawing-pad->-r QRBM/binder/requirements.txt (line 1)) (2.0.2)\n",
            "Requirement already satisfied: ipykernel>=4.5.1 in /usr/local/lib/python3.11/dist-packages (from ipywidgets->-r QRBM/binder/requirements.txt (line 3)) (6.17.1)\n",
            "Requirement already satisfied: ipython-genutils~=0.2.0 in /usr/local/lib/python3.11/dist-packages (from ipywidgets->-r QRBM/binder/requirements.txt (line 3)) (0.2.0)\n",
            "Requirement already satisfied: traitlets>=4.3.1 in /usr/local/lib/python3.11/dist-packages (from ipywidgets->-r QRBM/binder/requirements.txt (line 3)) (5.7.1)\n",
            "Requirement already satisfied: ipython>=4.0.0 in /usr/local/lib/python3.11/dist-packages (from ipywidgets->-r QRBM/binder/requirements.txt (line 3)) (7.34.0)\n",
            "Requirement already satisfied: jupyterlab-widgets>=1.0.0 in /usr/local/lib/python3.11/dist-packages (from ipywidgets->-r QRBM/binder/requirements.txt (line 3)) (3.0.14)\n",
            "Requirement already satisfied: contourpy>=1.0.1 in /usr/local/lib/python3.11/dist-packages (from matplotlib->-r QRBM/binder/requirements.txt (line 4)) (1.3.2)\n",
            "Requirement already satisfied: cycler>=0.10 in /usr/local/lib/python3.11/dist-packages (from matplotlib->-r QRBM/binder/requirements.txt (line 4)) (0.12.1)\n",
            "Requirement already satisfied: fonttools>=4.22.0 in /usr/local/lib/python3.11/dist-packages (from matplotlib->-r QRBM/binder/requirements.txt (line 4)) (4.57.0)\n",
            "Requirement already satisfied: kiwisolver>=1.3.1 in /usr/local/lib/python3.11/dist-packages (from matplotlib->-r QRBM/binder/requirements.txt (line 4)) (1.4.8)\n",
            "Requirement already satisfied: packaging>=20.0 in /usr/local/lib/python3.11/dist-packages (from matplotlib->-r QRBM/binder/requirements.txt (line 4)) (24.2)\n",
            "Requirement already satisfied: pyparsing>=2.3.1 in /usr/local/lib/python3.11/dist-packages (from matplotlib->-r QRBM/binder/requirements.txt (line 4)) (3.2.3)\n",
            "Requirement already satisfied: python-dateutil>=2.7 in /usr/local/lib/python3.11/dist-packages (from matplotlib->-r QRBM/binder/requirements.txt (line 4)) (2.8.2)\n",
            "Collecting dimod==0.12.20 (from dwave-ocean-sdk->-r QRBM/binder/requirements.txt (line 5))\n",
            "  Downloading dimod-0.12.20-cp311-cp311-manylinux_2_17_x86_64.manylinux2014_x86_64.whl.metadata (4.0 kB)\n",
            "Collecting dwave-cloud-client==0.13.4 (from dwave-ocean-sdk->-r QRBM/binder/requirements.txt (line 5))\n",
            "  Downloading dwave_cloud_client-0.13.4-py3-none-any.whl.metadata (5.4 kB)\n",
            "Collecting dwave-gate==0.3.3 (from dwave-ocean-sdk->-r QRBM/binder/requirements.txt (line 5))\n",
            "  Downloading dwave_gate-0.3.3-cp311-cp311-manylinux_2_17_x86_64.manylinux2014_x86_64.whl.metadata (18 kB)\n",
            "Collecting dwave-hybrid==0.6.14 (from dwave-ocean-sdk->-r QRBM/binder/requirements.txt (line 5))\n",
            "  Downloading dwave_hybrid-0.6.14-py3-none-any.whl.metadata (4.5 kB)\n",
            "Collecting dwave-inspector==0.5.3 (from dwave-ocean-sdk->-r QRBM/binder/requirements.txt (line 5))\n",
            "  Downloading dwave_inspector-0.5.3-py3-none-any.whl.metadata (4.4 kB)\n",
            "Collecting dwave-networkx==0.8.17 (from dwave-ocean-sdk->-r QRBM/binder/requirements.txt (line 5))\n",
            "  Downloading dwave_networkx-0.8.17-py3-none-any.whl.metadata (2.7 kB)\n",
            "Collecting dwave-optimization==0.6.0 (from dwave-ocean-sdk->-r QRBM/binder/requirements.txt (line 5))\n",
            "  Downloading dwave_optimization-0.6.0-cp311-cp311-manylinux_2_24_x86_64.manylinux_2_28_x86_64.whl.metadata (18 kB)\n",
            "Collecting dwave-preprocessing==0.6.8 (from dwave-ocean-sdk->-r QRBM/binder/requirements.txt (line 5))\n",
            "  Downloading dwave_preprocessing-0.6.8-cp311-cp311-manylinux_2_17_x86_64.manylinux2014_x86_64.whl.metadata (3.5 kB)\n",
            "Collecting dwave-samplers==1.5.0 (from dwave-ocean-sdk->-r QRBM/binder/requirements.txt (line 5))\n",
            "  Downloading dwave_samplers-1.5.0-cp311-cp311-manylinux_2_17_x86_64.manylinux2014_x86_64.whl.metadata (11 kB)\n",
            "Collecting dwave-system==1.30.0 (from dwave-ocean-sdk->-r QRBM/binder/requirements.txt (line 5))\n",
            "  Downloading dwave_system-1.30.0-py3-none-any.whl.metadata (3.4 kB)\n",
            "Collecting dwavebinarycsp==0.3.1 (from dwave-ocean-sdk->-r QRBM/binder/requirements.txt (line 5))\n",
            "  Downloading dwavebinarycsp-0.3.1-py3-none-any.whl.metadata (3.0 kB)\n",
            "Collecting minorminer==0.2.18 (from dwave-ocean-sdk->-r QRBM/binder/requirements.txt (line 5))\n",
            "  Downloading minorminer-0.2.18-cp311-cp311-manylinux_2_24_x86_64.manylinux_2_28_x86_64.whl.metadata (19 kB)\n",
            "Collecting penaltymodel==1.2.0 (from dwave-ocean-sdk->-r QRBM/binder/requirements.txt (line 5))\n",
            "  Downloading penaltymodel-1.2.0-py3-none-any.whl.metadata (6.5 kB)\n",
            "Requirement already satisfied: requests<3,>=2.25 in /usr/local/lib/python3.11/dist-packages (from requests[socks]<3,>=2.25->dwave-cloud-client==0.13.4->dwave-ocean-sdk->-r QRBM/binder/requirements.txt (line 5)) (2.32.3)\n",
            "Requirement already satisfied: urllib3<3,>=1.26 in /usr/local/lib/python3.11/dist-packages (from dwave-cloud-client==0.13.4->dwave-ocean-sdk->-r QRBM/binder/requirements.txt (line 5)) (2.3.0)\n",
            "Requirement already satisfied: pydantic<3,>=2 in /usr/local/lib/python3.11/dist-packages (from dwave-cloud-client==0.13.4->dwave-ocean-sdk->-r QRBM/binder/requirements.txt (line 5)) (2.11.3)\n",
            "Collecting homebase<2,>=1.0 (from dwave-cloud-client==0.13.4->dwave-ocean-sdk->-r QRBM/binder/requirements.txt (line 5))\n",
            "  Downloading homebase-1.0.1-py2.py3-none-any.whl.metadata (3.3 kB)\n",
            "Requirement already satisfied: click<9,>=7.0 in /usr/local/lib/python3.11/dist-packages (from dwave-cloud-client==0.13.4->dwave-ocean-sdk->-r QRBM/binder/requirements.txt (line 5)) (8.1.8)\n",
            "Collecting plucky<0.5,>=0.4.3 (from dwave-cloud-client==0.13.4->dwave-ocean-sdk->-r QRBM/binder/requirements.txt (line 5))\n",
            "  Downloading plucky-0.4.3-py2.py3-none-any.whl.metadata (4.4 kB)\n",
            "Collecting diskcache<6,>=5.2.1 (from dwave-cloud-client==0.13.4->dwave-ocean-sdk->-r QRBM/binder/requirements.txt (line 5))\n",
            "  Downloading diskcache-5.6.3-py3-none-any.whl.metadata (20 kB)\n",
            "Requirement already satisfied: werkzeug<4,>=2.2 in /usr/local/lib/python3.11/dist-packages (from dwave-cloud-client==0.13.4->dwave-ocean-sdk->-r QRBM/binder/requirements.txt (line 5)) (3.1.3)\n",
            "Requirement already satisfied: typing-extensions<5,>=4.5.0 in /usr/local/lib/python3.11/dist-packages (from dwave-cloud-client==0.13.4->dwave-ocean-sdk->-r QRBM/binder/requirements.txt (line 5)) (4.13.2)\n",
            "Collecting authlib<2,>=1.2 (from dwave-cloud-client==0.13.4->dwave-ocean-sdk->-r QRBM/binder/requirements.txt (line 5))\n",
            "  Downloading authlib-1.5.2-py2.py3-none-any.whl.metadata (3.9 kB)\n",
            "Requirement already satisfied: importlib_metadata>=5.0.0 in /usr/local/lib/python3.11/dist-packages (from dwave-cloud-client==0.13.4->dwave-ocean-sdk->-r QRBM/binder/requirements.txt (line 5)) (8.6.1)\n",
            "Requirement already satisfied: orjson>=3.10 in /usr/local/lib/python3.11/dist-packages (from dwave-cloud-client==0.13.4->dwave-ocean-sdk->-r QRBM/binder/requirements.txt (line 5)) (3.10.16)\n",
            "Requirement already satisfied: networkx in /usr/local/lib/python3.11/dist-packages (from dwave-hybrid==0.6.14->dwave-ocean-sdk->-r QRBM/binder/requirements.txt (line 5)) (3.4.2)\n",
            "Requirement already satisfied: Flask<4,>=2.2 in /usr/local/lib/python3.11/dist-packages (from dwave-inspector==0.5.3->dwave-ocean-sdk->-r QRBM/binder/requirements.txt (line 5)) (3.1.0)\n",
            "Requirement already satisfied: scipy>=1.7.3 in /usr/local/lib/python3.11/dist-packages (from dwave-system==1.30.0->dwave-ocean-sdk->-r QRBM/binder/requirements.txt (line 5)) (1.14.1)\n",
            "Collecting fasteners>=0.15 (from minorminer==0.2.18->dwave-ocean-sdk->-r QRBM/binder/requirements.txt (line 5))\n",
            "  Downloading fasteners-0.19-py3-none-any.whl.metadata (4.9 kB)\n",
            "Requirement already satisfied: jupyter-console in /usr/local/lib/python3.11/dist-packages (from jupyter->-r QRBM/binder/requirements.txt (line 6)) (6.1.0)\n",
            "Requirement already satisfied: nbconvert in /usr/local/lib/python3.11/dist-packages (from jupyter->-r QRBM/binder/requirements.txt (line 6)) (7.16.6)\n",
            "Collecting jupyterlab (from jupyter->-r QRBM/binder/requirements.txt (line 6))\n",
            "  Downloading jupyterlab-4.4.1-py3-none-any.whl.metadata (16 kB)\n",
            "Collecting jupyter-client<9,>=7.4.4 (from voila->-r QRBM/binder/requirements.txt (line 9))\n",
            "  Downloading jupyter_client-8.6.3-py3-none-any.whl.metadata (8.3 kB)\n",
            "Requirement already satisfied: jupyter-core>=4.11.0 in /usr/local/lib/python3.11/dist-packages (from voila->-r QRBM/binder/requirements.txt (line 9)) (5.7.2)\n",
            "Collecting jupyter-server<3,>=1.18 (from voila->-r QRBM/binder/requirements.txt (line 9))\n",
            "  Downloading jupyter_server-2.15.0-py3-none-any.whl.metadata (8.4 kB)\n",
            "Collecting jupyterlab-server<3,>=2.3.0 (from voila->-r QRBM/binder/requirements.txt (line 9))\n",
            "  Downloading jupyterlab_server-2.27.3-py3-none-any.whl.metadata (5.9 kB)\n",
            "Requirement already satisfied: nbclient>=0.4.0 in /usr/local/lib/python3.11/dist-packages (from voila->-r QRBM/binder/requirements.txt (line 9)) (0.10.2)\n",
            "Requirement already satisfied: websockets>=9.0 in /usr/local/lib/python3.11/dist-packages (from voila->-r QRBM/binder/requirements.txt (line 9)) (15.0.1)\n",
            "Requirement already satisfied: debugpy>=1.0 in /usr/local/lib/python3.11/dist-packages (from ipykernel>=4.5.1->ipywidgets->-r QRBM/binder/requirements.txt (line 3)) (1.8.0)\n",
            "Requirement already satisfied: matplotlib-inline>=0.1 in /usr/local/lib/python3.11/dist-packages (from ipykernel>=4.5.1->ipywidgets->-r QRBM/binder/requirements.txt (line 3)) (0.1.7)\n",
            "Requirement already satisfied: nest-asyncio in /usr/local/lib/python3.11/dist-packages (from ipykernel>=4.5.1->ipywidgets->-r QRBM/binder/requirements.txt (line 3)) (1.6.0)\n",
            "Requirement already satisfied: psutil in /usr/local/lib/python3.11/dist-packages (from ipykernel>=4.5.1->ipywidgets->-r QRBM/binder/requirements.txt (line 3)) (5.9.5)\n",
            "Requirement already satisfied: pyzmq>=17 in /usr/local/lib/python3.11/dist-packages (from ipykernel>=4.5.1->ipywidgets->-r QRBM/binder/requirements.txt (line 3)) (24.0.1)\n",
            "Requirement already satisfied: tornado>=6.1 in /usr/local/lib/python3.11/dist-packages (from ipykernel>=4.5.1->ipywidgets->-r QRBM/binder/requirements.txt (line 3)) (6.4.2)\n",
            "Requirement already satisfied: setuptools>=18.5 in /usr/local/lib/python3.11/dist-packages (from ipython>=4.0.0->ipywidgets->-r QRBM/binder/requirements.txt (line 3)) (75.2.0)\n",
            "Collecting jedi>=0.16 (from ipython>=4.0.0->ipywidgets->-r QRBM/binder/requirements.txt (line 3))\n",
            "  Downloading jedi-0.19.2-py2.py3-none-any.whl.metadata (22 kB)\n",
            "Requirement already satisfied: decorator in /usr/local/lib/python3.11/dist-packages (from ipython>=4.0.0->ipywidgets->-r QRBM/binder/requirements.txt (line 3)) (4.4.2)\n",
            "Requirement already satisfied: pickleshare in /usr/local/lib/python3.11/dist-packages (from ipython>=4.0.0->ipywidgets->-r QRBM/binder/requirements.txt (line 3)) (0.7.5)\n",
            "Requirement already satisfied: prompt-toolkit!=3.0.0,!=3.0.1,<3.1.0,>=2.0.0 in /usr/local/lib/python3.11/dist-packages (from ipython>=4.0.0->ipywidgets->-r QRBM/binder/requirements.txt (line 3)) (3.0.51)\n",
            "Requirement already satisfied: pygments in /usr/local/lib/python3.11/dist-packages (from ipython>=4.0.0->ipywidgets->-r QRBM/binder/requirements.txt (line 3)) (2.18.0)\n",
            "Requirement already satisfied: backcall in /usr/local/lib/python3.11/dist-packages (from ipython>=4.0.0->ipywidgets->-r QRBM/binder/requirements.txt (line 3)) (0.2.0)\n",
            "Requirement already satisfied: pexpect>4.3 in /usr/local/lib/python3.11/dist-packages (from ipython>=4.0.0->ipywidgets->-r QRBM/binder/requirements.txt (line 3)) (4.9.0)\n",
            "Requirement already satisfied: platformdirs>=2.5 in /usr/local/lib/python3.11/dist-packages (from jupyter-core>=4.11.0->voila->-r QRBM/binder/requirements.txt (line 9)) (4.3.7)\n",
            "Requirement already satisfied: anyio>=3.1.0 in /usr/local/lib/python3.11/dist-packages (from jupyter-server<3,>=1.18->voila->-r QRBM/binder/requirements.txt (line 9)) (4.9.0)\n",
            "Requirement already satisfied: argon2-cffi>=21.1 in /usr/local/lib/python3.11/dist-packages (from jupyter-server<3,>=1.18->voila->-r QRBM/binder/requirements.txt (line 9)) (23.1.0)\n",
            "Requirement already satisfied: jinja2>=3.0.3 in /usr/local/lib/python3.11/dist-packages (from jupyter-server<3,>=1.18->voila->-r QRBM/binder/requirements.txt (line 9)) (3.1.6)\n",
            "Collecting jupyter-events>=0.11.0 (from jupyter-server<3,>=1.18->voila->-r QRBM/binder/requirements.txt (line 9))\n",
            "  Downloading jupyter_events-0.12.0-py3-none-any.whl.metadata (5.8 kB)\n",
            "Collecting jupyter-server-terminals>=0.4.4 (from jupyter-server<3,>=1.18->voila->-r QRBM/binder/requirements.txt (line 9))\n",
            "  Downloading jupyter_server_terminals-0.5.3-py3-none-any.whl.metadata (5.6 kB)\n",
            "Requirement already satisfied: nbformat>=5.3.0 in /usr/local/lib/python3.11/dist-packages (from jupyter-server<3,>=1.18->voila->-r QRBM/binder/requirements.txt (line 9)) (5.10.4)\n",
            "Collecting overrides>=5.0 (from jupyter-server<3,>=1.18->voila->-r QRBM/binder/requirements.txt (line 9))\n",
            "  Downloading overrides-7.7.0-py3-none-any.whl.metadata (5.8 kB)\n",
            "Requirement already satisfied: prometheus-client>=0.9 in /usr/local/lib/python3.11/dist-packages (from jupyter-server<3,>=1.18->voila->-r QRBM/binder/requirements.txt (line 9)) (0.21.1)\n",
            "Requirement already satisfied: send2trash>=1.8.2 in /usr/local/lib/python3.11/dist-packages (from jupyter-server<3,>=1.18->voila->-r QRBM/binder/requirements.txt (line 9)) (1.8.3)\n",
            "Requirement already satisfied: terminado>=0.8.3 in /usr/local/lib/python3.11/dist-packages (from jupyter-server<3,>=1.18->voila->-r QRBM/binder/requirements.txt (line 9)) (0.18.1)\n",
            "Requirement already satisfied: websocket-client>=1.7 in /usr/local/lib/python3.11/dist-packages (from jupyter-server<3,>=1.18->voila->-r QRBM/binder/requirements.txt (line 9)) (1.8.0)\n",
            "Requirement already satisfied: babel>=2.10 in /usr/local/lib/python3.11/dist-packages (from jupyterlab-server<3,>=2.3.0->voila->-r QRBM/binder/requirements.txt (line 9)) (2.17.0)\n",
            "Collecting json5>=0.9.0 (from jupyterlab-server<3,>=2.3.0->voila->-r QRBM/binder/requirements.txt (line 9))\n",
            "  Downloading json5-0.12.0-py3-none-any.whl.metadata (36 kB)\n",
            "Requirement already satisfied: jsonschema>=4.18.0 in /usr/local/lib/python3.11/dist-packages (from jupyterlab-server<3,>=2.3.0->voila->-r QRBM/binder/requirements.txt (line 9)) (4.23.0)\n",
            "Requirement already satisfied: beautifulsoup4 in /usr/local/lib/python3.11/dist-packages (from nbconvert->jupyter->-r QRBM/binder/requirements.txt (line 6)) (4.13.4)\n",
            "Requirement already satisfied: bleach!=5.0.0 in /usr/local/lib/python3.11/dist-packages (from bleach[css]!=5.0.0->nbconvert->jupyter->-r QRBM/binder/requirements.txt (line 6)) (6.2.0)\n",
            "Requirement already satisfied: defusedxml in /usr/local/lib/python3.11/dist-packages (from nbconvert->jupyter->-r QRBM/binder/requirements.txt (line 6)) (0.7.1)\n",
            "Requirement already satisfied: jupyterlab-pygments in /usr/local/lib/python3.11/dist-packages (from nbconvert->jupyter->-r QRBM/binder/requirements.txt (line 6)) (0.3.0)\n",
            "Requirement already satisfied: markupsafe>=2.0 in /usr/local/lib/python3.11/dist-packages (from nbconvert->jupyter->-r QRBM/binder/requirements.txt (line 6)) (3.0.2)\n",
            "Requirement already satisfied: mistune<4,>=2.0.3 in /usr/local/lib/python3.11/dist-packages (from nbconvert->jupyter->-r QRBM/binder/requirements.txt (line 6)) (3.1.3)\n",
            "Requirement already satisfied: pandocfilters>=1.4.1 in /usr/local/lib/python3.11/dist-packages (from nbconvert->jupyter->-r QRBM/binder/requirements.txt (line 6)) (1.5.1)\n",
            "Collecting jupyter-client<9,>=7.4.4 (from voila->-r QRBM/binder/requirements.txt (line 9))\n",
            "  Downloading jupyter_client-7.4.9-py3-none-any.whl.metadata (8.5 kB)\n",
            "Requirement already satisfied: nbclassic>=0.4.7 in /usr/local/lib/python3.11/dist-packages (from notebook>=5.3.0->jupyter-drawing-pad->-r QRBM/binder/requirements.txt (line 1)) (1.2.0)\n",
            "Requirement already satisfied: entrypoints in /usr/local/lib/python3.11/dist-packages (from jupyter-client<9,>=7.4.4->voila->-r QRBM/binder/requirements.txt (line 9)) (0.4)\n",
            "Requirement already satisfied: six>=1.5 in /usr/local/lib/python3.11/dist-packages (from python-dateutil>=2.7->matplotlib->-r QRBM/binder/requirements.txt (line 4)) (1.17.0)\n",
            "Collecting async-lru>=1.0.0 (from jupyterlab->jupyter->-r QRBM/binder/requirements.txt (line 6))\n",
            "  Downloading async_lru-2.0.5-py3-none-any.whl.metadata (4.5 kB)\n",
            "Requirement already satisfied: httpx>=0.25.0 in /usr/local/lib/python3.11/dist-packages (from jupyterlab->jupyter->-r QRBM/binder/requirements.txt (line 6)) (0.28.1)\n",
            "Collecting jupyter-lsp>=2.0.0 (from jupyterlab->jupyter->-r QRBM/binder/requirements.txt (line 6))\n",
            "  Downloading jupyter_lsp-2.2.5-py3-none-any.whl.metadata (1.8 kB)\n",
            "Requirement already satisfied: notebook-shim>=0.2 in /usr/local/lib/python3.11/dist-packages (from jupyterlab->jupyter->-r QRBM/binder/requirements.txt (line 6)) (0.2.4)\n",
            "Requirement already satisfied: idna>=2.8 in /usr/local/lib/python3.11/dist-packages (from anyio>=3.1.0->jupyter-server<3,>=1.18->voila->-r QRBM/binder/requirements.txt (line 9)) (3.10)\n",
            "Requirement already satisfied: sniffio>=1.1 in /usr/local/lib/python3.11/dist-packages (from anyio>=3.1.0->jupyter-server<3,>=1.18->voila->-r QRBM/binder/requirements.txt (line 9)) (1.3.1)\n",
            "Requirement already satisfied: argon2-cffi-bindings in /usr/local/lib/python3.11/dist-packages (from argon2-cffi>=21.1->jupyter-server<3,>=1.18->voila->-r QRBM/binder/requirements.txt (line 9)) (21.2.0)\n",
            "Requirement already satisfied: cryptography in /usr/local/lib/python3.11/dist-packages (from authlib<2,>=1.2->dwave-cloud-client==0.13.4->dwave-ocean-sdk->-r QRBM/binder/requirements.txt (line 5)) (43.0.3)\n",
            "Requirement already satisfied: webencodings in /usr/local/lib/python3.11/dist-packages (from bleach!=5.0.0->bleach[css]!=5.0.0->nbconvert->jupyter->-r QRBM/binder/requirements.txt (line 6)) (0.5.1)\n",
            "Requirement already satisfied: tinycss2<1.5,>=1.1.0 in /usr/local/lib/python3.11/dist-packages (from bleach[css]!=5.0.0->nbconvert->jupyter->-r QRBM/binder/requirements.txt (line 6)) (1.4.0)\n",
            "Requirement already satisfied: itsdangerous>=2.2 in /usr/local/lib/python3.11/dist-packages (from Flask<4,>=2.2->dwave-inspector==0.5.3->dwave-ocean-sdk->-r QRBM/binder/requirements.txt (line 5)) (2.2.0)\n",
            "Requirement already satisfied: blinker>=1.9 in /usr/local/lib/python3.11/dist-packages (from Flask<4,>=2.2->dwave-inspector==0.5.3->dwave-ocean-sdk->-r QRBM/binder/requirements.txt (line 5)) (1.9.0)\n",
            "Requirement already satisfied: certifi in /usr/local/lib/python3.11/dist-packages (from httpx>=0.25.0->jupyterlab->jupyter->-r QRBM/binder/requirements.txt (line 6)) (2025.1.31)\n",
            "Requirement already satisfied: httpcore==1.* in /usr/local/lib/python3.11/dist-packages (from httpx>=0.25.0->jupyterlab->jupyter->-r QRBM/binder/requirements.txt (line 6)) (1.0.8)\n",
            "Requirement already satisfied: h11<0.15,>=0.13 in /usr/local/lib/python3.11/dist-packages (from httpcore==1.*->httpx>=0.25.0->jupyterlab->jupyter->-r QRBM/binder/requirements.txt (line 6)) (0.14.0)\n",
            "Requirement already satisfied: zipp>=3.20 in /usr/local/lib/python3.11/dist-packages (from importlib_metadata>=5.0.0->dwave-cloud-client==0.13.4->dwave-ocean-sdk->-r QRBM/binder/requirements.txt (line 5)) (3.21.0)\n",
            "Requirement already satisfied: parso<0.9.0,>=0.8.4 in /usr/local/lib/python3.11/dist-packages (from jedi>=0.16->ipython>=4.0.0->ipywidgets->-r QRBM/binder/requirements.txt (line 3)) (0.8.4)\n",
            "Requirement already satisfied: attrs>=22.2.0 in /usr/local/lib/python3.11/dist-packages (from jsonschema>=4.18.0->jupyterlab-server<3,>=2.3.0->voila->-r QRBM/binder/requirements.txt (line 9)) (25.3.0)\n",
            "Requirement already satisfied: jsonschema-specifications>=2023.03.6 in /usr/local/lib/python3.11/dist-packages (from jsonschema>=4.18.0->jupyterlab-server<3,>=2.3.0->voila->-r QRBM/binder/requirements.txt (line 9)) (2024.10.1)\n",
            "Requirement already satisfied: referencing>=0.28.4 in /usr/local/lib/python3.11/dist-packages (from jsonschema>=4.18.0->jupyterlab-server<3,>=2.3.0->voila->-r QRBM/binder/requirements.txt (line 9)) (0.36.2)\n",
            "Requirement already satisfied: rpds-py>=0.7.1 in /usr/local/lib/python3.11/dist-packages (from jsonschema>=4.18.0->jupyterlab-server<3,>=2.3.0->voila->-r QRBM/binder/requirements.txt (line 9)) (0.24.0)\n",
            "Collecting python-json-logger>=2.0.4 (from jupyter-events>=0.11.0->jupyter-server<3,>=1.18->voila->-r QRBM/binder/requirements.txt (line 9))\n",
            "  Downloading python_json_logger-3.3.0-py3-none-any.whl.metadata (4.0 kB)\n",
            "Requirement already satisfied: pyyaml>=5.3 in /usr/local/lib/python3.11/dist-packages (from jupyter-events>=0.11.0->jupyter-server<3,>=1.18->voila->-r QRBM/binder/requirements.txt (line 9)) (6.0.2)\n",
            "Collecting rfc3339-validator (from jupyter-events>=0.11.0->jupyter-server<3,>=1.18->voila->-r QRBM/binder/requirements.txt (line 9))\n",
            "  Downloading rfc3339_validator-0.1.4-py2.py3-none-any.whl.metadata (1.5 kB)\n",
            "Collecting rfc3986-validator>=0.1.1 (from jupyter-events>=0.11.0->jupyter-server<3,>=1.18->voila->-r QRBM/binder/requirements.txt (line 9))\n",
            "  Downloading rfc3986_validator-0.1.1-py2.py3-none-any.whl.metadata (1.7 kB)\n",
            "Requirement already satisfied: fastjsonschema>=2.15 in /usr/local/lib/python3.11/dist-packages (from nbformat>=5.3.0->jupyter-server<3,>=1.18->voila->-r QRBM/binder/requirements.txt (line 9)) (2.21.1)\n",
            "Requirement already satisfied: ptyprocess>=0.5 in /usr/local/lib/python3.11/dist-packages (from pexpect>4.3->ipython>=4.0.0->ipywidgets->-r QRBM/binder/requirements.txt (line 3)) (0.7.0)\n",
            "Requirement already satisfied: wcwidth in /usr/local/lib/python3.11/dist-packages (from prompt-toolkit!=3.0.0,!=3.0.1,<3.1.0,>=2.0.0->ipython>=4.0.0->ipywidgets->-r QRBM/binder/requirements.txt (line 3)) (0.2.13)\n",
            "Requirement already satisfied: annotated-types>=0.6.0 in /usr/local/lib/python3.11/dist-packages (from pydantic<3,>=2->dwave-cloud-client==0.13.4->dwave-ocean-sdk->-r QRBM/binder/requirements.txt (line 5)) (0.7.0)\n",
            "Requirement already satisfied: pydantic-core==2.33.1 in /usr/local/lib/python3.11/dist-packages (from pydantic<3,>=2->dwave-cloud-client==0.13.4->dwave-ocean-sdk->-r QRBM/binder/requirements.txt (line 5)) (2.33.1)\n",
            "Requirement already satisfied: typing-inspection>=0.4.0 in /usr/local/lib/python3.11/dist-packages (from pydantic<3,>=2->dwave-cloud-client==0.13.4->dwave-ocean-sdk->-r QRBM/binder/requirements.txt (line 5)) (0.4.0)\n",
            "Requirement already satisfied: charset-normalizer<4,>=2 in /usr/local/lib/python3.11/dist-packages (from requests<3,>=2.25->requests[socks]<3,>=2.25->dwave-cloud-client==0.13.4->dwave-ocean-sdk->-r QRBM/binder/requirements.txt (line 5)) (3.4.1)\n",
            "Requirement already satisfied: PySocks!=1.5.7,>=1.5.6 in /usr/local/lib/python3.11/dist-packages (from requests[socks]<3,>=2.25->dwave-cloud-client==0.13.4->dwave-ocean-sdk->-r QRBM/binder/requirements.txt (line 5)) (1.7.1)\n",
            "Requirement already satisfied: soupsieve>1.2 in /usr/local/lib/python3.11/dist-packages (from beautifulsoup4->nbconvert->jupyter->-r QRBM/binder/requirements.txt (line 6)) (2.7)\n",
            "Collecting fqdn (from jsonschema[format-nongpl]>=4.18.0->jupyter-events>=0.11.0->jupyter-server<3,>=1.18->voila->-r QRBM/binder/requirements.txt (line 9))\n",
            "  Downloading fqdn-1.5.1-py3-none-any.whl.metadata (1.4 kB)\n",
            "Collecting isoduration (from jsonschema[format-nongpl]>=4.18.0->jupyter-events>=0.11.0->jupyter-server<3,>=1.18->voila->-r QRBM/binder/requirements.txt (line 9))\n",
            "  Downloading isoduration-20.11.0-py3-none-any.whl.metadata (5.7 kB)\n",
            "Requirement already satisfied: jsonpointer>1.13 in /usr/local/lib/python3.11/dist-packages (from jsonschema[format-nongpl]>=4.18.0->jupyter-events>=0.11.0->jupyter-server<3,>=1.18->voila->-r QRBM/binder/requirements.txt (line 9)) (3.0.0)\n",
            "Collecting uri-template (from jsonschema[format-nongpl]>=4.18.0->jupyter-events>=0.11.0->jupyter-server<3,>=1.18->voila->-r QRBM/binder/requirements.txt (line 9))\n",
            "  Downloading uri_template-1.3.0-py3-none-any.whl.metadata (8.8 kB)\n",
            "Requirement already satisfied: webcolors>=24.6.0 in /usr/local/lib/python3.11/dist-packages (from jsonschema[format-nongpl]>=4.18.0->jupyter-events>=0.11.0->jupyter-server<3,>=1.18->voila->-r QRBM/binder/requirements.txt (line 9)) (24.11.1)\n",
            "Requirement already satisfied: cffi>=1.0.1 in /usr/local/lib/python3.11/dist-packages (from argon2-cffi-bindings->argon2-cffi>=21.1->jupyter-server<3,>=1.18->voila->-r QRBM/binder/requirements.txt (line 9)) (1.17.1)\n",
            "Requirement already satisfied: pycparser in /usr/local/lib/python3.11/dist-packages (from cffi>=1.0.1->argon2-cffi-bindings->argon2-cffi>=21.1->jupyter-server<3,>=1.18->voila->-r QRBM/binder/requirements.txt (line 9)) (2.22)\n",
            "Collecting arrow>=0.15.0 (from isoduration->jsonschema[format-nongpl]>=4.18.0->jupyter-events>=0.11.0->jupyter-server<3,>=1.18->voila->-r QRBM/binder/requirements.txt (line 9))\n",
            "  Downloading arrow-1.3.0-py3-none-any.whl.metadata (7.5 kB)\n",
            "Collecting types-python-dateutil>=2.8.10 (from arrow>=0.15.0->isoduration->jsonschema[format-nongpl]>=4.18.0->jupyter-events>=0.11.0->jupyter-server<3,>=1.18->voila->-r QRBM/binder/requirements.txt (line 9))\n",
            "  Downloading types_python_dateutil-2.9.0.20241206-py3-none-any.whl.metadata (2.1 kB)\n",
            "Downloading dwave_ocean_sdk-8.3.0-py3-none-any.whl (8.4 kB)\n",
            "Downloading dimod-0.12.20-cp311-cp311-manylinux_2_17_x86_64.manylinux2014_x86_64.whl (9.1 MB)\n",
            "\u001b[2K   \u001b[90m━━━━━━━━━━━━━━━━━━━━━━━━━━━━━━━━━━━━━━━━\u001b[0m \u001b[32m9.1/9.1 MB\u001b[0m \u001b[31m51.7 MB/s\u001b[0m eta \u001b[36m0:00:00\u001b[0m\n",
            "\u001b[?25hDownloading dwave_cloud_client-0.13.4-py3-none-any.whl (160 kB)\n",
            "\u001b[2K   \u001b[90m━━━━━━━━━━━━━━━━━━━━━━━━━━━━━━━━━━━━━━━━\u001b[0m \u001b[32m160.8/160.8 kB\u001b[0m \u001b[31m9.5 MB/s\u001b[0m eta \u001b[36m0:00:00\u001b[0m\n",
            "\u001b[?25hDownloading dwave_gate-0.3.3-cp311-cp311-manylinux_2_17_x86_64.manylinux2014_x86_64.whl (1.6 MB)\n",
            "\u001b[2K   \u001b[90m━━━━━━━━━━━━━━━━━━━━━━━━━━━━━━━━━━━━━━━━\u001b[0m \u001b[32m1.6/1.6 MB\u001b[0m \u001b[31m52.9 MB/s\u001b[0m eta \u001b[36m0:00:00\u001b[0m\n",
            "\u001b[?25hDownloading dwave_hybrid-0.6.14-py3-none-any.whl (78 kB)\n",
            "\u001b[2K   \u001b[90m━━━━━━━━━━━━━━━━━━━━━━━━━━━━━━━━━━━━━━━━\u001b[0m \u001b[32m78.3/78.3 kB\u001b[0m \u001b[31m6.1 MB/s\u001b[0m eta \u001b[36m0:00:00\u001b[0m\n",
            "\u001b[?25hDownloading dwave_inspector-0.5.3-py3-none-any.whl (30 kB)\n",
            "Downloading dwave_networkx-0.8.17-py3-none-any.whl (103 kB)\n",
            "\u001b[2K   \u001b[90m━━━━━━━━━━━━━━━━━━━━━━━━━━━━━━━━━━━━━━━━\u001b[0m \u001b[32m103.7/103.7 kB\u001b[0m \u001b[31m5.8 MB/s\u001b[0m eta \u001b[36m0:00:00\u001b[0m\n",
            "\u001b[?25hDownloading dwave_optimization-0.6.0-cp311-cp311-manylinux_2_24_x86_64.manylinux_2_28_x86_64.whl (3.4 MB)\n",
            "\u001b[2K   \u001b[90m━━━━━━━━━━━━━━━━━━━━━━━━━━━━━━━━━━━━━━━━\u001b[0m \u001b[32m3.4/3.4 MB\u001b[0m \u001b[31m53.6 MB/s\u001b[0m eta \u001b[36m0:00:00\u001b[0m\n",
            "\u001b[?25hDownloading dwave_preprocessing-0.6.8-cp311-cp311-manylinux_2_17_x86_64.manylinux2014_x86_64.whl (3.4 MB)\n",
            "\u001b[2K   \u001b[90m━━━━━━━━━━━━━━━━━━━━━━━━━━━━━━━━━━━━━━━━\u001b[0m \u001b[32m3.4/3.4 MB\u001b[0m \u001b[31m63.1 MB/s\u001b[0m eta \u001b[36m0:00:00\u001b[0m\n",
            "\u001b[?25hDownloading dwave_samplers-1.5.0-cp311-cp311-manylinux_2_17_x86_64.manylinux2014_x86_64.whl (9.0 MB)\n",
            "\u001b[2K   \u001b[90m━━━━━━━━━━━━━━━━━━━━━━━━━━━━━━━━━━━━━━━━\u001b[0m \u001b[32m9.0/9.0 MB\u001b[0m \u001b[31m65.7 MB/s\u001b[0m eta \u001b[36m0:00:00\u001b[0m\n",
            "\u001b[?25hDownloading dwave_system-1.30.0-py3-none-any.whl (106 kB)\n",
            "\u001b[2K   \u001b[90m━━━━━━━━━━━━━━━━━━━━━━━━━━━━━━━━━━━━━━━━\u001b[0m \u001b[32m106.9/106.9 kB\u001b[0m \u001b[31m8.2 MB/s\u001b[0m eta \u001b[36m0:00:00\u001b[0m\n",
            "\u001b[?25hDownloading dwavebinarycsp-0.3.1-py3-none-any.whl (35 kB)\n",
            "Downloading minorminer-0.2.18-cp311-cp311-manylinux_2_24_x86_64.manylinux_2_28_x86_64.whl (3.9 MB)\n",
            "\u001b[2K   \u001b[90m━━━━━━━━━━━━━━━━━━━━━━━━━━━━━━━━━━━━━━━━\u001b[0m \u001b[32m3.9/3.9 MB\u001b[0m \u001b[31m59.6 MB/s\u001b[0m eta \u001b[36m0:00:00\u001b[0m\n",
            "\u001b[?25hDownloading penaltymodel-1.2.0-py3-none-any.whl (36 kB)\n",
            "Downloading jupyter-1.1.1-py2.py3-none-any.whl (2.7 kB)\n",
            "Downloading voila-0.5.8-py3-none-any.whl (4.5 MB)\n",
            "\u001b[2K   \u001b[90m━━━━━━━━━━━━━━━━━━━━━━━━━━━━━━━━━━━━━━━━\u001b[0m \u001b[32m4.5/4.5 MB\u001b[0m \u001b[31m54.1 MB/s\u001b[0m eta \u001b[36m0:00:00\u001b[0m\n",
            "\u001b[?25hDownloading jupyter_server-2.15.0-py3-none-any.whl (385 kB)\n",
            "\u001b[2K   \u001b[90m━━━━━━━━━━━━━━━━━━━━━━━━━━━━━━━━━━━━━━━━\u001b[0m \u001b[32m385.8/385.8 kB\u001b[0m \u001b[31m23.1 MB/s\u001b[0m eta \u001b[36m0:00:00\u001b[0m\n",
            "\u001b[?25hDownloading jupyterlab_server-2.27.3-py3-none-any.whl (59 kB)\n",
            "\u001b[2K   \u001b[90m━━━━━━━━━━━━━━━━━━━━━━━━━━━━━━━━━━━━━━━━\u001b[0m \u001b[32m59.7/59.7 kB\u001b[0m \u001b[31m4.6 MB/s\u001b[0m eta \u001b[36m0:00:00\u001b[0m\n",
            "\u001b[?25hDownloading jupyter_client-7.4.9-py3-none-any.whl (133 kB)\n",
            "\u001b[2K   \u001b[90m━━━━━━━━━━━━━━━━━━━━━━━━━━━━━━━━━━━━━━━━\u001b[0m \u001b[32m133.5/133.5 kB\u001b[0m \u001b[31m9.9 MB/s\u001b[0m eta \u001b[36m0:00:00\u001b[0m\n",
            "\u001b[?25hDownloading jupyterlab-4.4.1-py3-none-any.whl (12.3 MB)\n",
            "\u001b[2K   \u001b[90m━━━━━━━━━━━━━━━━━━━━━━━━━━━━━━━━━━━━━━━━\u001b[0m \u001b[32m12.3/12.3 MB\u001b[0m \u001b[31m59.9 MB/s\u001b[0m eta \u001b[36m0:00:00\u001b[0m\n",
            "\u001b[?25hDownloading async_lru-2.0.5-py3-none-any.whl (6.1 kB)\n",
            "Downloading authlib-1.5.2-py2.py3-none-any.whl (232 kB)\n",
            "\u001b[2K   \u001b[90m━━━━━━━━━━━━━━━━━━━━━━━━━━━━━━━━━━━━━━━━\u001b[0m \u001b[32m232.1/232.1 kB\u001b[0m \u001b[31m15.8 MB/s\u001b[0m eta \u001b[36m0:00:00\u001b[0m\n",
            "\u001b[?25hDownloading diskcache-5.6.3-py3-none-any.whl (45 kB)\n",
            "\u001b[2K   \u001b[90m━━━━━━━━━━━━━━━━━━━━━━━━━━━━━━━━━━━━━━━━\u001b[0m \u001b[32m45.5/45.5 kB\u001b[0m \u001b[31m2.9 MB/s\u001b[0m eta \u001b[36m0:00:00\u001b[0m\n",
            "\u001b[?25hDownloading fasteners-0.19-py3-none-any.whl (18 kB)\n",
            "Downloading homebase-1.0.1-py2.py3-none-any.whl (11 kB)\n",
            "Downloading jedi-0.19.2-py2.py3-none-any.whl (1.6 MB)\n",
            "\u001b[2K   \u001b[90m━━━━━━━━━━━━━━━━━━━━━━━━━━━━━━━━━━━━━━━━\u001b[0m \u001b[32m1.6/1.6 MB\u001b[0m \u001b[31m51.1 MB/s\u001b[0m eta \u001b[36m0:00:00\u001b[0m\n",
            "\u001b[?25hDownloading json5-0.12.0-py3-none-any.whl (36 kB)\n",
            "Downloading jupyter_events-0.12.0-py3-none-any.whl (19 kB)\n",
            "Downloading jupyter_lsp-2.2.5-py3-none-any.whl (69 kB)\n",
            "\u001b[2K   \u001b[90m━━━━━━━━━━━━━━━━━━━━━━━━━━━━━━━━━━━━━━━━\u001b[0m \u001b[32m69.1/69.1 kB\u001b[0m \u001b[31m4.9 MB/s\u001b[0m eta \u001b[36m0:00:00\u001b[0m\n",
            "\u001b[?25hDownloading jupyter_server_terminals-0.5.3-py3-none-any.whl (13 kB)\n",
            "Downloading overrides-7.7.0-py3-none-any.whl (17 kB)\n",
            "Downloading plucky-0.4.3-py2.py3-none-any.whl (10 kB)\n",
            "Downloading python_json_logger-3.3.0-py3-none-any.whl (15 kB)\n",
            "Downloading rfc3986_validator-0.1.1-py2.py3-none-any.whl (4.2 kB)\n",
            "Downloading rfc3339_validator-0.1.4-py2.py3-none-any.whl (3.5 kB)\n",
            "Downloading fqdn-1.5.1-py3-none-any.whl (9.1 kB)\n",
            "Downloading isoduration-20.11.0-py3-none-any.whl (11 kB)\n",
            "Downloading uri_template-1.3.0-py3-none-any.whl (11 kB)\n",
            "Downloading arrow-1.3.0-py3-none-any.whl (66 kB)\n",
            "\u001b[2K   \u001b[90m━━━━━━━━━━━━━━━━━━━━━━━━━━━━━━━━━━━━━━━━\u001b[0m \u001b[32m66.4/66.4 kB\u001b[0m \u001b[31m4.4 MB/s\u001b[0m eta \u001b[36m0:00:00\u001b[0m\n",
            "\u001b[?25hDownloading types_python_dateutil-2.9.0.20241206-py3-none-any.whl (14 kB)\n",
            "Building wheels for collected packages: jupyter-drawing-pad\n",
            "  Building wheel for jupyter-drawing-pad (setup.py) ... \u001b[?25l\u001b[?25hdone\n",
            "  Created wheel for jupyter-drawing-pad: filename=jupyter_drawing_pad-0.1.6-py2.py3-none-any.whl size=447991 sha256=5a2baeb62deffc64988214ae53c84efd580c35690f0da0132c929bc64ce6b891\n",
            "  Stored in directory: /tmp/pip-ephem-wheel-cache-9g2fnj_0/wheels/24/c4/31/02388b3c8e32bb95f1639265763e5526b986b56805aa664b30\n",
            "Successfully built jupyter-drawing-pad\n",
            "Installing collected packages: plucky, homebase, uri-template, types-python-dateutil, rfc3986-validator, rfc3339-validator, python-json-logger, overrides, json5, jedi, fqdn, fasteners, dwave-optimization, dwave-gate, diskcache, dimod, async-lru, penaltymodel, jupyter-server-terminals, jupyter-client, dwave-samplers, dwave-preprocessing, dwave-networkx, arrow, minorminer, isoduration, dwavebinarycsp, authlib, dwave-cloud-client, jupyter-events, dwave-system, dwave-inspector, dwave-hybrid, jupyter-server, dwave-ocean-sdk, jupyterlab-server, jupyter-lsp, voila, jupyterlab, jupyter-drawing-pad, jupyter\n",
            "  Attempting uninstall: jupyter-client\n",
            "    Found existing installation: jupyter-client 6.1.12\n",
            "    Uninstalling jupyter-client-6.1.12:\n",
            "      Successfully uninstalled jupyter-client-6.1.12\n",
            "  Attempting uninstall: jupyter-server\n",
            "    Found existing installation: jupyter-server 1.16.0\n",
            "    Uninstalling jupyter-server-1.16.0:\n",
            "      Successfully uninstalled jupyter-server-1.16.0\n",
            "Successfully installed arrow-1.3.0 async-lru-2.0.5 authlib-1.5.2 dimod-0.12.20 diskcache-5.6.3 dwave-cloud-client-0.13.4 dwave-gate-0.3.3 dwave-hybrid-0.6.14 dwave-inspector-0.5.3 dwave-networkx-0.8.17 dwave-ocean-sdk-8.3.0 dwave-optimization-0.6.0 dwave-preprocessing-0.6.8 dwave-samplers-1.5.0 dwave-system-1.30.0 dwavebinarycsp-0.3.1 fasteners-0.19 fqdn-1.5.1 homebase-1.0.1 isoduration-20.11.0 jedi-0.19.2 json5-0.12.0 jupyter-1.1.1 jupyter-client-7.4.9 jupyter-drawing-pad-0.1.6 jupyter-events-0.12.0 jupyter-lsp-2.2.5 jupyter-server-2.15.0 jupyter-server-terminals-0.5.3 jupyterlab-4.4.1 jupyterlab-server-2.27.3 minorminer-0.2.18 overrides-7.7.0 penaltymodel-1.2.0 plucky-0.4.3 python-json-logger-3.3.0 rfc3339-validator-0.1.4 rfc3986-validator-0.1.1 types-python-dateutil-2.9.0.20241206 uri-template-1.3.0 voila-0.5.8\n"
          ]
        }
      ],
      "source": [
        "# Clone the QRBM repository\n",
        "!git clone https://github.com/mareksubocz/QRBM.git\n",
        "\n",
        "# Install everything in binder/requirements.txt\n",
        "!pip install -r QRBM/binder/requirements.txt\n",
        "\n",
        "\n",
        "import sys\n",
        "# Adjust path if you cloned somewhere else\n",
        "sys.path.append('/content/QRBM')\n"
      ]
    },
    {
      "cell_type": "code",
      "execution_count": 2,
      "metadata": {
        "colab": {
          "base_uri": "https://localhost:8080/"
        },
        "id": "_JitNG2W3ntl",
        "outputId": "8baecc7b-1b34-47de-ce18-94ef2d28d76f"
      },
      "outputs": [
        {
          "output_type": "stream",
          "name": "stdout",
          "text": [
            "Collecting pyqubo\n",
            "  Downloading pyqubo-1.5.0-cp311-cp311-manylinux_2_17_x86_64.manylinux2014_x86_64.whl.metadata (7.0 kB)\n",
            "Requirement already satisfied: numpy>=1.17.3 in /usr/local/lib/python3.11/dist-packages (from pyqubo) (2.0.2)\n",
            "Requirement already satisfied: dimod<0.13,>=0.9.14 in /usr/local/lib/python3.11/dist-packages (from pyqubo) (0.12.20)\n",
            "Collecting dwave-neal>=0.5.7 (from pyqubo)\n",
            "  Downloading dwave_neal-0.6.0-py3-none-any.whl.metadata (3.0 kB)\n",
            "Requirement already satisfied: Deprecated>=1.2.12 in /usr/local/lib/python3.11/dist-packages (from pyqubo) (1.2.18)\n",
            "Requirement already satisfied: six>=1.15.0 in /usr/local/lib/python3.11/dist-packages (from pyqubo) (1.17.0)\n",
            "Requirement already satisfied: wrapt<2,>=1.10 in /usr/local/lib/python3.11/dist-packages (from Deprecated>=1.2.12->pyqubo) (1.17.2)\n",
            "Requirement already satisfied: dwave-samplers<2.0.0,>=1.0.0 in /usr/local/lib/python3.11/dist-packages (from dwave-neal>=0.5.7->pyqubo) (1.5.0)\n",
            "Requirement already satisfied: networkx>=3.0 in /usr/local/lib/python3.11/dist-packages (from dwave-samplers<2.0.0,>=1.0.0->dwave-neal>=0.5.7->pyqubo) (3.4.2)\n",
            "Downloading pyqubo-1.5.0-cp311-cp311-manylinux_2_17_x86_64.manylinux2014_x86_64.whl (258 kB)\n",
            "\u001b[2K   \u001b[90m━━━━━━━━━━━━━━━━━━━━━━━━━━━━━━━━━━━━━━━━\u001b[0m \u001b[32m258.3/258.3 kB\u001b[0m \u001b[31m6.4 MB/s\u001b[0m eta \u001b[36m0:00:00\u001b[0m\n",
            "\u001b[?25hDownloading dwave_neal-0.6.0-py3-none-any.whl (8.7 kB)\n",
            "Installing collected packages: dwave-neal, pyqubo\n",
            "Successfully installed dwave-neal-0.6.0 pyqubo-1.5.0\n",
            "Collecting dwave-tabu\n",
            "  Downloading dwave_tabu-0.5.0-py3-none-any.whl.metadata (3.3 kB)\n",
            "Requirement already satisfied: dwave-samplers>=1.0.0 in /usr/local/lib/python3.11/dist-packages (from dwave-tabu) (1.5.0)\n",
            "Requirement already satisfied: numpy<3.0.0,>=1.19.0 in /usr/local/lib/python3.11/dist-packages (from dwave-samplers>=1.0.0->dwave-tabu) (2.0.2)\n",
            "Requirement already satisfied: dimod<0.13.0,>=0.12.13 in /usr/local/lib/python3.11/dist-packages (from dwave-samplers>=1.0.0->dwave-tabu) (0.12.20)\n",
            "Requirement already satisfied: networkx>=3.0 in /usr/local/lib/python3.11/dist-packages (from dwave-samplers>=1.0.0->dwave-tabu) (3.4.2)\n",
            "Downloading dwave_tabu-0.5.0-py3-none-any.whl (9.2 kB)\n",
            "Installing collected packages: dwave-tabu\n",
            "Successfully installed dwave-tabu-0.5.0\n"
          ]
        }
      ],
      "source": [
        "!pip install pyqubo      # brings in the PyQUBO library for building QUBO models :contentReference[oaicite:1]{index=1}\n",
        "!pip install dwave-tabu   # installs the TabuSampler interface (provides top-level `tabu` module) :contentReference[oaicite:2]{index=2}"
      ]
    },
    {
      "cell_type": "code",
      "execution_count": 3,
      "metadata": {
        "id": "rPcBs9Z80sVH"
      },
      "outputs": [],
      "source": [
        "import numpy as np\n",
        "import timeit\n",
        "import matplotlib.pyplot as plt\n",
        "from tqdm import tqdm_notebook as tqdm\n",
        "\n",
        "from qrbm.MSQRBM import MSQRBM\n",
        "from qrbm.classicalRBM import classicalRBM\n",
        "\n",
        "\n",
        "import matplotlib.pyplot as plt\n",
        "%matplotlib inline\n",
        "plt.rcParams['image.cmap'] = 'gray'\n",
        "\n",
        "import pandas as pd\n",
        "\n",
        "from skimage import data, color\n",
        "from skimage.transform import rescale, resize, downscale_local_mean\n",
        "from skimage import img_as_bool\n",
        "\n",
        "import cv2 as cv\n",
        "\n",
        "import random"
      ]
    },
    {
      "cell_type": "markdown",
      "metadata": {
        "id": "-1eRyPpq3yKJ"
      },
      "source": [
        "### Dataset and image processing:"
      ]
    },
    {
      "cell_type": "markdown",
      "source": [
        "Parameters:\n",
        "* digits: list of digits to train on\n",
        "* THRESHOLD: how bright parts of image become 1 (darker become 0)."
      ],
      "metadata": {
        "id": "XeLy5d3V_JnR"
      }
    },
    {
      "cell_type": "code",
      "execution_count": 4,
      "metadata": {
        "id": "qVJ9bpLp6Ilm"
      },
      "outputs": [],
      "source": [
        "image_height = 28\n",
        "image_width = 28\n",
        "\n",
        "# images will be flattened\n",
        "len_x = image_height * image_width\n",
        "len_y = 0\n",
        "\n",
        "digits = [0, 1]\n",
        "\n",
        "THRESHOLD = 100"
      ]
    },
    {
      "cell_type": "code",
      "execution_count": 5,
      "metadata": {
        "colab": {
          "base_uri": "https://localhost:8080/"
        },
        "id": "iGFqiY8x31p3",
        "outputId": "21bdedcd-f972-42d8-aeaa-21b63567d207"
      },
      "outputs": [
        {
          "output_type": "stream",
          "name": "stdout",
          "text": [
            "Collecting opendatasets\n",
            "  Downloading opendatasets-0.1.22-py3-none-any.whl.metadata (9.2 kB)\n",
            "Requirement already satisfied: tqdm in /usr/local/lib/python3.11/dist-packages (from opendatasets) (4.67.1)\n",
            "Requirement already satisfied: kaggle in /usr/local/lib/python3.11/dist-packages (from opendatasets) (1.7.4.2)\n",
            "Requirement already satisfied: click in /usr/local/lib/python3.11/dist-packages (from opendatasets) (8.1.8)\n",
            "Requirement already satisfied: bleach in /usr/local/lib/python3.11/dist-packages (from kaggle->opendatasets) (6.2.0)\n",
            "Requirement already satisfied: certifi>=14.05.14 in /usr/local/lib/python3.11/dist-packages (from kaggle->opendatasets) (2025.1.31)\n",
            "Requirement already satisfied: charset-normalizer in /usr/local/lib/python3.11/dist-packages (from kaggle->opendatasets) (3.4.1)\n",
            "Requirement already satisfied: idna in /usr/local/lib/python3.11/dist-packages (from kaggle->opendatasets) (3.10)\n",
            "Requirement already satisfied: protobuf in /usr/local/lib/python3.11/dist-packages (from kaggle->opendatasets) (5.29.4)\n",
            "Requirement already satisfied: python-dateutil>=2.5.3 in /usr/local/lib/python3.11/dist-packages (from kaggle->opendatasets) (2.8.2)\n",
            "Requirement already satisfied: python-slugify in /usr/local/lib/python3.11/dist-packages (from kaggle->opendatasets) (8.0.4)\n",
            "Requirement already satisfied: requests in /usr/local/lib/python3.11/dist-packages (from kaggle->opendatasets) (2.32.3)\n",
            "Requirement already satisfied: setuptools>=21.0.0 in /usr/local/lib/python3.11/dist-packages (from kaggle->opendatasets) (75.2.0)\n",
            "Requirement already satisfied: six>=1.10 in /usr/local/lib/python3.11/dist-packages (from kaggle->opendatasets) (1.17.0)\n",
            "Requirement already satisfied: text-unidecode in /usr/local/lib/python3.11/dist-packages (from kaggle->opendatasets) (1.3)\n",
            "Requirement already satisfied: urllib3>=1.15.1 in /usr/local/lib/python3.11/dist-packages (from kaggle->opendatasets) (2.3.0)\n",
            "Requirement already satisfied: webencodings in /usr/local/lib/python3.11/dist-packages (from kaggle->opendatasets) (0.5.1)\n",
            "Downloading opendatasets-0.1.22-py3-none-any.whl (15 kB)\n",
            "Installing collected packages: opendatasets\n",
            "Successfully installed opendatasets-0.1.22\n",
            "Please provide your Kaggle credentials to download this dataset. Learn more: http://bit.ly/kaggle-creds\n",
            "Your Kaggle username: sergioquirogas\n",
            "Your Kaggle Key: ··········\n",
            "Dataset URL: https://www.kaggle.com/datasets/oddrationale/mnist-in-csv\n"
          ]
        }
      ],
      "source": [
        "# reading datasetn\n",
        "# 1. Install opendatasets\n",
        "!pip install opendatasets\n",
        "\n",
        "# 2. Download & unzip directly from Kaggle’s “Datasets” page\n",
        "import opendatasets as od\n",
        "od.download(\n",
        "    \"https://www.kaggle.com/oddrationale/mnist-in-csv\",\n",
        "    data_dir=\"data\"\n",
        ")  # creates data/mnist-in-csv\n",
        "\n",
        "# 3. Read CSVs\n",
        "import pandas as pd\n",
        "mnist_dataset = pd.read_csv('data/mnist-in-csv/mnist_train.csv')\n",
        "mnist_test    = pd.read_csv('data/mnist-in-csv/mnist_test.csv')\n",
        "\n",
        "\n",
        "# Train Test sets\n",
        "\n",
        "X_train = mnist_dataset.values[:,1:]\n",
        "X_train2 = mnist_dataset.values[:,:]\n",
        "\n",
        "X_test = mnist_test.values[:,1:]\n",
        "X_test2 = mnist_test.values[:,:]\n",
        "\n",
        "# print(mnist_dataset.values[:,0])\n",
        "X_train3 = []\n",
        "X_test3 = []\n",
        "\n",
        "for digit in digits:\n",
        "    X_train3.append(mnist_dataset.values[np.where(mnist_dataset.values[:,0] == digit), 1:][0])\n",
        "    X_test3.append(mnist_test.values[np.where(mnist_test.values[:,0] == digit), 1:][0])\n",
        "# X_train3 = mnist_dataset.values[np.where(mnist_dataset.values[:,0] == 0), 1:]"
      ]
    },
    {
      "cell_type": "code",
      "execution_count": 6,
      "metadata": {
        "id": "AD3Z1C3T43es",
        "colab": {
          "base_uri": "https://localhost:8080/",
          "height": 430
        },
        "outputId": "555a3de8-e0f8-4160-b790-eeab33a43607"
      },
      "outputs": [
        {
          "output_type": "display_data",
          "data": {
            "text/plain": [
              "<Figure size 640x480 with 1 Axes>"
            ],
            "image/png": "[encoded data removed]"
          },
          "metadata": {}
        }
      ],
      "source": [
        "imgs = []\n",
        "imgs_test = []\n",
        "for digit_index in range(len(digits)):\n",
        "    imgs.append(np.resize(X_train3[digit_index], (len(X_train3[digit_index]), 28, 28)) / 255)\n",
        "    imgs_test.append(np.resize(X_test3[digit_index], (len(X_test3[digit_index]), 28, 28)) / 255)\n",
        "\n",
        "plt.imshow(imgs[0][0])\n",
        "plt.show()"
      ]
    },
    {
      "cell_type": "markdown",
      "source": [
        "Resizing, Normalizing and converting the images to binary"
      ],
      "metadata": {
        "id": "hQvCGQ468Tud"
      }
    },
    {
      "cell_type": "code",
      "source": [
        "# Resizing images\n",
        "images_resized = []\n",
        "images_resized_test = []\n",
        "for digit_index in range(len(digits)):\n",
        "    images_resized.append([resize(img, (image_width, image_height), anti_aliasing=True) for img in imgs[digit_index]])\n",
        "    images_resized_test.append([resize(img, (image_width, image_height), anti_aliasing=True) for img in imgs_test[digit_index]])\n",
        "\n",
        "    # images_resized = [resize(img, (image_width, image_height), anti_aliasing=True) for img in imgs]\n",
        "\n",
        "# Normalizing images\n",
        "\n",
        "images_normalized = []\n",
        "images_normalized_test = []\n",
        "\n",
        "for digit_index in range(len(digits)):\n",
        "    images_normalized.append([cv.normalize(image_resized, image_resized, 0, 255, cv.NORM_MINMAX) for image_resized in images_resized[digit_index]])\n",
        "    images_normalized_test.append([cv.normalize(image_resized, image_resized, 0, 255, cv.NORM_MINMAX) for image_resized in images_resized_test[digit_index]])\n",
        "\n",
        "    # images_normalized = [cv.normalize(image_resized, image_resized, 0, 255, cv.NORM_MINMAX) for image_resized in images_resized]\n",
        "\n",
        "plt.imshow(images_normalized[0][0])\n",
        "plt.show()\n",
        "\n",
        "#Converting to binary\n",
        "\n",
        "data = []\n",
        "data_test = []\n",
        "for digit_index in range(len(digits)):\n",
        "    data.append([np.where(image_resized > THRESHOLD, 1, 0) for image_resized in images_resized[digit_index]])\n",
        "    data_test.append([np.where(image_resized > THRESHOLD, 1, 0) for image_resized in images_resized_test[digit_index]])\n",
        "\n",
        "# data = [np.where(image_resized > THRESHOLD, 1, 0) for image_resized in images_resized]\n",
        "\n",
        "plt.imshow(data[0][0])\n",
        "plt.show()"
      ],
      "metadata": {
        "colab": {
          "base_uri": "https://localhost:8080/",
          "height": 843
        },
        "id": "_K7JszQj8Ejc",
        "outputId": "c6a5f9c1-587d-4cb7-f732-ef2f88d2c781"
      },
      "execution_count": 7,
      "outputs": [
        {
          "output_type": "display_data",
          "data": {
            "text/plain": [
              "<Figure size 640x480 with 1 Axes>"
            ],
            "image/png": "[encoded data removed]"
          },
          "metadata": {}
        },
        {
          "output_type": "display_data",
          "data": {
            "text/plain": [
              "<Figure size 640x480 with 1 Axes>"
            ],
            "image/png": "[encoded data removed]"
          },
          "metadata": {}
        }
      ]
    },
    {
      "cell_type": "markdown",
      "source": [
        "Flattening images"
      ],
      "metadata": {
        "id": "da0-f2fH8EWx"
      }
    },
    {
      "cell_type": "code",
      "source": [
        "input_data = []\n",
        "input_data_test = []\n",
        "for digit_index in range(len(digits)):\n",
        "    input_data.append([x.flatten().tolist() for x in data[digit_index]])\n",
        "    input_data_test.append([x.flatten().tolist() for x in data_test[digit_index]])\n",
        "\n",
        "print(input_data[0][0])"
      ],
      "metadata": {
        "colab": {
          "base_uri": "https://localhost:8080/"
        },
        "id": "W_vL8DoA8p7L",
        "outputId": "6f94b9d4-24d9-4da0-f8b5-f4aee8fb958f"
      },
      "execution_count": 8,
      "outputs": [
        {
          "output_type": "stream",
          "name": "stdout",
          "text": [
            "[0, 0, 0, 0, 0, 0, 0, 0, 0, 0, 0, 0, 0, 0, 0, 0, 0, 0, 0, 0, 0, 0, 0, 0, 0, 0, 0, 0, 0, 0, 0, 0, 0, 0, 0, 0, 0, 0, 0, 0, 0, 0, 0, 0, 0, 0, 0, 0, 0, 0, 0, 0, 0, 0, 0, 0, 0, 0, 0, 0, 0, 0, 0, 0, 0, 0, 0, 0, 0, 0, 0, 0, 0, 0, 0, 0, 0, 0, 0, 0, 0, 0, 0, 0, 0, 0, 0, 0, 0, 0, 0, 0, 0, 0, 0, 0, 0, 0, 0, 0, 0, 0, 0, 0, 0, 0, 0, 0, 0, 0, 0, 0, 0, 0, 0, 0, 0, 0, 0, 0, 0, 0, 0, 0, 0, 0, 0, 0, 1, 1, 1, 0, 0, 0, 0, 0, 0, 0, 0, 0, 0, 0, 0, 0, 0, 0, 0, 0, 0, 0, 0, 0, 0, 0, 0, 1, 1, 1, 1, 1, 0, 0, 0, 0, 0, 0, 0, 0, 0, 0, 0, 0, 0, 0, 0, 0, 0, 0, 0, 0, 0, 0, 1, 1, 1, 1, 1, 1, 0, 0, 0, 0, 0, 0, 0, 0, 0, 0, 0, 0, 0, 0, 0, 0, 0, 0, 0, 0, 0, 1, 1, 1, 1, 1, 0, 1, 1, 1, 0, 0, 0, 0, 0, 0, 0, 0, 0, 0, 0, 0, 0, 0, 0, 0, 0, 1, 1, 1, 1, 1, 1, 1, 0, 1, 1, 1, 0, 0, 0, 0, 0, 0, 0, 0, 0, 0, 0, 0, 0, 0, 0, 0, 0, 1, 1, 1, 1, 1, 1, 1, 0, 0, 1, 1, 0, 0, 0, 0, 0, 0, 0, 0, 0, 0, 0, 0, 0, 0, 0, 0, 1, 1, 1, 1, 0, 0, 1, 0, 0, 0, 1, 1, 0, 0, 0, 0, 0, 0, 0, 0, 0, 0, 0, 0, 0, 0, 0, 1, 1, 1, 1, 0, 0, 0, 0, 0, 0, 0, 1, 1, 1, 0, 0, 0, 0, 0, 0, 0, 0, 0, 0, 0, 0, 0, 1, 1, 1, 0, 0, 0, 0, 0, 0, 0, 0, 0, 1, 1, 1, 0, 0, 0, 0, 0, 0, 0, 0, 0, 0, 0, 0, 0, 1, 1, 0, 0, 0, 0, 0, 0, 0, 0, 0, 0, 1, 1, 1, 0, 0, 0, 0, 0, 0, 0, 0, 0, 0, 0, 0, 1, 1, 1, 0, 0, 0, 0, 0, 0, 0, 0, 0, 0, 1, 1, 1, 0, 0, 0, 0, 0, 0, 0, 0, 0, 0, 0, 0, 1, 1, 1, 0, 0, 0, 0, 0, 0, 0, 0, 0, 0, 1, 1, 1, 0, 0, 0, 0, 0, 0, 0, 0, 0, 0, 0, 0, 1, 1, 0, 0, 0, 0, 0, 0, 0, 0, 0, 0, 1, 1, 1, 0, 0, 0, 0, 0, 0, 0, 0, 0, 0, 0, 0, 0, 1, 1, 0, 0, 0, 0, 0, 0, 0, 0, 0, 1, 1, 1, 0, 0, 0, 0, 0, 0, 0, 0, 0, 0, 0, 0, 0, 0, 1, 1, 0, 0, 0, 0, 0, 0, 0, 0, 1, 1, 1, 0, 0, 0, 0, 0, 0, 0, 0, 0, 0, 0, 0, 0, 0, 0, 1, 1, 0, 0, 0, 0, 0, 0, 1, 1, 1, 1, 0, 0, 0, 0, 0, 0, 0, 0, 0, 0, 0, 0, 0, 0, 0, 0, 1, 1, 1, 0, 0, 0, 1, 1, 1, 1, 1, 0, 0, 0, 0, 0, 0, 0, 0, 0, 0, 0, 0, 0, 0, 0, 0, 0, 1, 1, 1, 1, 1, 1, 1, 1, 1, 1, 0, 0, 0, 0, 0, 0, 0, 0, 0, 0, 0, 0, 0, 0, 0, 0, 0, 0, 1, 1, 1, 1, 1, 1, 1, 1, 0, 0, 0, 0, 0, 0, 0, 0, 0, 0, 0, 0, 0, 0, 0, 0, 0, 0, 0, 0, 0, 1, 1, 1, 1, 1, 0, 0, 0, 0, 0, 0, 0, 0, 0, 0, 0, 0, 0, 0, 0, 0, 0, 0, 0, 0, 0, 0, 0, 0, 0, 0, 0, 0, 0, 0, 0, 0, 0, 0, 0, 0, 0, 0, 0, 0, 0, 0, 0, 0, 0, 0, 0, 0, 0, 0, 0, 0, 0, 0, 0, 0, 0, 0, 0, 0, 0, 0, 0, 0, 0, 0, 0, 0, 0, 0, 0, 0, 0, 0, 0, 0, 0, 0, 0, 0, 0, 0, 0, 0, 0, 0, 0, 0, 0, 0, 0, 0, 0, 0, 0, 0, 0, 0, 0, 0, 0, 0, 0, 0, 0, 0, 0, 0, 0, 0, 0, 0, 0, 0, 0, 0, 0, 0, 0, 0, 0, 0, 0, 0, 0, 0, 0]\n"
          ]
        }
      ]
    },
    {
      "cell_type": "code",
      "source": [
        "result_picture_tab = []\n",
        "for digit_index in range(len(digits)):\n",
        "    result_picture_tab.append(np.mean(input_data_test[digit_index], axis = 0))"
      ],
      "metadata": {
        "id": "coFPOmGJ8xfa"
      },
      "execution_count": 9,
      "outputs": []
    },
    {
      "cell_type": "markdown",
      "source": [
        "Shuffling training data"
      ],
      "metadata": {
        "id": "HSLfkcTL85-2"
      }
    },
    {
      "cell_type": "code",
      "source": [
        "for digit in digits:\n",
        "    flat_input_data = [item for sublist in input_data for item in sublist]\n",
        "    flat_input_data_test = [item for sublist in input_data_test for item in sublist]\n",
        "\n",
        "random.shuffle(flat_input_data)\n",
        "random.shuffle(flat_input_data_test)"
      ],
      "metadata": {
        "id": "GoF6mbii8EM6"
      },
      "execution_count": 10,
      "outputs": []
    },
    {
      "cell_type": "markdown",
      "metadata": {
        "id": "mmm8fciw0SRv"
      },
      "source": [
        "### Algorithm"
      ]
    },
    {
      "cell_type": "markdown",
      "source": [
        "Training"
      ],
      "metadata": {
        "id": "cwabPYkY82Oj"
      }
    },
    {
      "cell_type": "markdown",
      "metadata": {
        "id": "8COvr5OV0ikR"
      },
      "source": [
        "Learning params:\n",
        "\n",
        "\n",
        "*  n_hidden: number of neurons in hidden layer.\n",
        "*   qpu: whether to use real D-wave's qpu (requires setup) or a local simulator.\n",
        "*  epochs: number of epochs.\n",
        "*  lr: learning rate.\n",
        "\n"
      ]
    },
    {
      "cell_type": "code",
      "source": [
        "# BM Parameters\n",
        "n_hidden = 30\n",
        "qpu = False\n",
        "epochs = 1000\n",
        "lr = 0.1"
      ],
      "metadata": {
        "id": "izQiErXS-TE4"
      },
      "execution_count": 11,
      "outputs": []
    },
    {
      "cell_type": "code",
      "source": [
        "bm = MSQRBM(n_visible=len_x, n_hidden=n_hidden, qpu=qpu)\n",
        "bm.image_height = image_height\n",
        "bm.tqdm = tqdm\n",
        "bm.result_picture_tab = result_picture_tab"
      ],
      "metadata": {
        "id": "QaeiY6_K8EJ5"
      },
      "execution_count": 12,
      "outputs": []
    },
    {
      "cell_type": "code",
      "source": [
        "bm.train(flat_input_data, len_x, len_y, epochs = epochs, lr = lr, lr_decay = 0.1)"
      ],
      "metadata": {
        "colab": {
          "base_uri": "https://localhost:8080/",
          "height": 484,
          "referenced_widgets": [
            "b8138514b3244f6a8b6ab0de9479a5f5",
            "811e19d174ba43a78039bd14f2177b7e",
            "e90193b8ea984fa0af66ecdd48fdbd23",
            "e1b98c099e7945629625a4abe370ca4a",
            "9ac2abd2a401402dbbeef30158aa71bf",
            "e687d40fead54f798b2b8672fc1ced62",
            "36fad74823444573abe9adab9928c435",
            "b0633e32bb0d43baac2be42d4ebf258d",
            "8f5bea2518454ad2b283e08176107e2e",
            "3fc4a0af92f846b2956e7b8a40e9daed",
            "0d98b58c3de245e6b852dc7aeab2486f"
          ]
        },
        "id": "Ucsk4okh8EHa",
        "outputId": "2b327d8e-849e-4bb6-e70a-e1d0d1c77b6a"
      },
      "execution_count": 13,
      "outputs": [
        {
          "output_type": "display_data",
          "data": {
            "text/plain": [
              "  0%|          | 0/1000 [00:00<?, ?it/s]"
            ],
            "application/vnd.jupyter.widget-view+json": {
              "version_major": 2,
              "version_minor": 0,
              "model_id": "b8138514b3244f6a8b6ab0de9479a5f5"
            }
          },
          "metadata": {}
        },
        {
          "output_type": "display_data",
          "data": {
            "text/plain": [
              "<Figure size 640x480 with 1 Axes>"
            ],
            "image/png": "[encoded data removed]"
          },
          "metadata": {}
        }
      ]
    },
    {
      "cell_type": "markdown",
      "source": [
        "\n",
        "See random sampling results"
      ],
      "metadata": {
        "id": "wRY15N0A9FqL"
      }
    },
    {
      "cell_type": "markdown",
      "source": [
        "**Generation**: \"You do not run gradient descent on a loss for your test image. Instead, you treat the RBM as a probabilistic model and sample from it via Gibbs sampling:\n",
        "\n",
        "\""
      ],
      "metadata": {
        "id": "WRP-MXt_Bu9u"
      }
    },
    {
      "cell_type": "code",
      "source": [
        "for test in range(5):\n",
        "    flat_input_data_test_img = np.reshape(flat_input_data_test[test], (image_width, image_height))\n",
        "    plt.figure()\n",
        "    plt.axis('off')\n",
        "    plt.title(\"Image from test set\", y=1.03)\n",
        "    plt.imshow(flat_input_data_test_img)\n",
        "    plt.show()\n",
        "\n",
        "    generated_pic = bm.generate(test_img = flat_input_data_test[test])\n",
        "    evaluation = bm.evaluate(generated_pic, flat_input_data_test[test])\n",
        "    print(\"evaluation: \", evaluation)\n",
        "#     print(generated_pic)\n",
        "    plt.figure()\n",
        "    plt.axis('off')\n",
        "    plt.title(\"Image reconstructed after training\", y=1.03)\n",
        "    plt.imshow(np.array(generated_pic).reshape(image_height, -1))"
      ],
      "metadata": {
        "colab": {
          "base_uri": "https://localhost:8080/",
          "height": 1000
        },
        "id": "VVLPnf2g8EE8",
        "outputId": "de56f850-41d4-4c4e-fa6b-8db3ed86d643"
      },
      "execution_count": 14,
      "outputs": [
        {
          "output_type": "display_data",
          "data": {
            "text/plain": [
              "<Figure size 640x480 with 1 Axes>"
            ],
            "image/png": "[encoded data removed]"
          },
          "metadata": {}
        },
        {
          "output_type": "stream",
          "name": "stdout",
          "text": [
            "evaluation:  42.23775718450646\n"
          ]
        },
        {
          "output_type": "display_data",
          "data": {
            "text/plain": [
              "<Figure size 640x480 with 1 Axes>"
            ],
            "image/png": "[encoded data removed]"
          },
          "metadata": {}
        },
        {
          "output_type": "display_data",
          "data": {
            "text/plain": [
              "<Figure size 640x480 with 1 Axes>"
            ],
            "image/png": "[encoded data removed]"
          },
          "metadata": {}
        },
        {
          "output_type": "stream",
          "name": "stdout",
          "text": [
            "evaluation:  33.93364823691513\n"
          ]
        },
        {
          "output_type": "display_data",
          "data": {
            "text/plain": [
              "<Figure size 640x480 with 1 Axes>"
            ],
            "image/png": "[encoded data removed]"
          },
          "metadata": {}
        },
        {
          "output_type": "display_data",
          "data": {
            "text/plain": [
              "<Figure size 640x480 with 1 Axes>"
            ],
            "image/png": "[encoded data removed]"
          },
          "metadata": {}
        },
        {
          "output_type": "stream",
          "name": "stdout",
          "text": [
            "evaluation:  42.23775718450646\n"
          ]
        },
        {
          "output_type": "display_data",
          "data": {
            "text/plain": [
              "<Figure size 640x480 with 1 Axes>"
            ],
            "image/png": "[encoded data removed]"
          },
          "metadata": {}
        },
        {
          "output_type": "display_data",
          "data": {
            "text/plain": [
              "<Figure size 640x480 with 1 Axes>"
            ],
            "image/png": "[encoded data removed]"
          },
          "metadata": {}
        },
        {
          "output_type": "stream",
          "name": "stdout",
          "text": [
            "evaluation:  22.61030021929399\n"
          ]
        },
        {
          "output_type": "display_data",
          "data": {
            "text/plain": [
              "<Figure size 640x480 with 1 Axes>"
            ],
            "image/png": "[encoded data removed]"
          },
          "metadata": {}
        },
        {
          "output_type": "display_data",
          "data": {
            "text/plain": [
              "<Figure size 640x480 with 1 Axes>"
            ],
            "image/png": "[encoded data removed]"
          },
          "metadata": {}
        },
        {
          "output_type": "stream",
          "name": "stdout",
          "text": [
            "evaluation:  42.23775718450646\n"
          ]
        },
        {
          "output_type": "display_data",
          "data": {
            "text/plain": [
              "<Figure size 640x480 with 1 Axes>"
            ],
            "image/png": "[encoded data removed]"
          },
          "metadata": {}
        }
      ]
    },
    {
      "cell_type": "markdown",
      "source": [
        "### References\n",
        "\n",
        "\n",
        "\n",
        "*  Applying a Quantum Annealing Based Restricted Boltzmann Machine for MNIST Handwritten Digit Classification [CMST paper](https://cmst.eu/articles/applying-a-quantum-annealing-based-restricted-boltzmann-machine-for-mnist-handwritten-digit-classification/)\n",
        "*  Mareksubocz github implementation from the paper: https://github.com/mareksubocz/QRBM"
      ],
      "metadata": {
        "id": "e6RCrL6sZ2A_"
      }
    },
    {
      "cell_type": "markdown",
      "source": [
        "##Some Notes on the method:"
      ],
      "metadata": {
        "id": "bdYoOAVgbZy0"
      }
    },
    {
      "cell_type": "markdown",
      "source": [
        "###Gibbs Sampling\n",
        "\n",
        "1. **Initialize** the visible units $$v$$ (either randomly, or to your “test” image if you’re doing a reconstruction).\n",
        "2. **Sample** each hidden unit $$h_j$$ from  \n",
        "   $$\n",
        "   p(h_j = 1 \\mid v) = \\sigma\\left(b_j + (W^\\top v)_j\\right).\n",
        "   $$\n",
        "3. **Sample** each visible unit $$v_i$$ from  \n",
        "   $$\n",
        "   p(v_i = 1 \\mid h) = \\sigma\\left(a_i + (W h)_i\\right).\n",
        "   $$\n",
        "4. **Repeat** steps 2–3 for a few (or many) iterations.  \n",
        "   Eventually your $(v, h)$ chain wanders into one of the low-energy “valleys” the model learned.\n",
        "\n",
        "> **Note:** There is no “test‐time gradient descent” on the energy surface; instead, the random updates of a Gibbs chain naturally drift toward low‐energy configurations.\n",
        "\n",
        "---\n"
      ],
      "metadata": {
        "id": "KfByrOVnbc8g"
      }
    },
    {
      "cell_type": "markdown",
      "source": [
        "\n",
        "### Putting it all together\n",
        "\n",
        "**Train:** Adjust $(W, a, b)$ so that  $p(v) = \\frac{1}{Z} \\sum_h e^{-E(v, h)}$ puts most of its mass on your training images.\n",
        "\n",
        "**Reconstruct / Generate:**\n",
        "- *Reconstruction*  clamps the visible units initially to your test image, then does 1–2 steps of Gibbs sampling to “clean up” noise.\n",
        "- *Free generation* starts $v$ at random and runs many Gibbs steps until you land in a learned mode.\n",
        "\n",
        "**Evaluation:**  \n",
        "Once you’ve sampled your reconstructed $v$, you compare it to the original test vector (e.g., via mean-squared error).\n",
        "\n",
        "---\n",
        "Overall method:\n",
        "During training, you clamp the visible layer to each data vector and learn weights so that the hidden layer captures its correlations. During generation (or reconstruction), you sample back and forth between hidden and visible layers via Gibbs sampling—always producing your new image on the visible layer.\n",
        "\n",
        "\n",
        "Interpretation: hidden units represent features (e.g.\\ edges, strokes), not direct reconstructions. You must always sample back to the visible units to produce an actual image\n",
        "\n",
        "\n",
        "Notes Generated with ChatGPT and improved for a fast explanation of gibbs sampling and the training procedure of Boltzmann machines."
      ],
      "metadata": {
        "id": "imnbNmioCuMc"
      }
    }
  ],
  "metadata": {
    "colab": {
      "provenance": [],
      "authorship_tag": "ABX9TyOHjY4aMlsfFBY9plTltknx",
      "include_colab_link": true
    },
    "kernelspec": {
      "display_name": "Python 3",
      "name": "python3"
    },
    "language_info": {
      "name": "python"
    },
    "widgets": {
      "application/vnd.jupyter.widget-state+json": {
        "b8138514b3244f6a8b6ab0de9479a5f5": {
          "model_module": "@jupyter-widgets/controls",
          "model_name": "HBoxModel",
          "model_module_version": "1.5.0",
          "state": {
            "_dom_classes": [],
            "_model_module": "@jupyter-widgets/controls",
            "_model_module_version": "1.5.0",
            "_model_name": "HBoxModel",
            "_view_count": null,
            "_view_module": "@jupyter-widgets/controls",
            "_view_module_version": "1.5.0",
            "_view_name": "HBoxView",
            "box_style": "",
            "children": [
              "IPY_MODEL_811e19d174ba43a78039bd14f2177b7e",
              "IPY_MODEL_e90193b8ea984fa0af66ecdd48fdbd23",
              "IPY_MODEL_e1b98c099e7945629625a4abe370ca4a"
            ],
            "layout": "IPY_MODEL_9ac2abd2a401402dbbeef30158aa71bf"
          }
        },
        "811e19d174ba43a78039bd14f2177b7e": {
          "model_module": "@jupyter-widgets/controls",
          "model_name": "HTMLModel",
          "model_module_version": "1.5.0",
          "state": {
            "_dom_classes": [],
            "_model_module": "@jupyter-widgets/controls",
            "_model_module_version": "1.5.0",
            "_model_name": "HTMLModel",
            "_view_count": null,
            "_view_module": "@jupyter-widgets/controls",
            "_view_module_version": "1.5.0",
            "_view_name": "HTMLView",
            "description": "",
            "description_tooltip": null,
            "layout": "IPY_MODEL_e687d40fead54f798b2b8672fc1ced62",
            "placeholder": "​",
            "style": "IPY_MODEL_36fad74823444573abe9adab9928c435",
            "value": "100%"
          }
        },
        "e90193b8ea984fa0af66ecdd48fdbd23": {
          "model_module": "@jupyter-widgets/controls",
          "model_name": "FloatProgressModel",
          "model_module_version": "1.5.0",
          "state": {
            "_dom_classes": [],
            "_model_module": "@jupyter-widgets/controls",
            "_model_module_version": "1.5.0",
            "_model_name": "FloatProgressModel",
            "_view_count": null,
            "_view_module": "@jupyter-widgets/controls",
            "_view_module_version": "1.5.0",
            "_view_name": "ProgressView",
            "bar_style": "success",
            "description": "",
            "description_tooltip": null,
            "layout": "IPY_MODEL_b0633e32bb0d43baac2be42d4ebf258d",
            "max": 1000,
            "min": 0,
            "orientation": "horizontal",
            "style": "IPY_MODEL_8f5bea2518454ad2b283e08176107e2e",
            "value": 1000
          }
        },
        "e1b98c099e7945629625a4abe370ca4a": {
          "model_module": "@jupyter-widgets/controls",
          "model_name": "HTMLModel",
          "model_module_version": "1.5.0",
          "state": {
            "_dom_classes": [],
            "_model_module": "@jupyter-widgets/controls",
            "_model_module_version": "1.5.0",
            "_model_name": "HTMLModel",
            "_view_count": null,
            "_view_module": "@jupyter-widgets/controls",
            "_view_module_version": "1.5.0",
            "_view_name": "HTMLView",
            "description": "",
            "description_tooltip": null,
            "layout": "IPY_MODEL_3fc4a0af92f846b2956e7b8a40e9daed",
            "placeholder": "​",
            "style": "IPY_MODEL_0d98b58c3de245e6b852dc7aeab2486f",
            "value": " 1000/1000 [07:58&lt;00:00,  2.40it/s]"
          }
        },
        "9ac2abd2a401402dbbeef30158aa71bf": {
          "model_module": "@jupyter-widgets/base",
          "model_name": "LayoutModel",
          "model_module_version": "1.2.0",
          "state": {
            "_model_module": "@jupyter-widgets/base",
            "_model_module_version": "1.2.0",
            "_model_name": "LayoutModel",
            "_view_count": null,
            "_view_module": "@jupyter-widgets/base",
            "_view_module_version": "1.2.0",
            "_view_name": "LayoutView",
            "align_content": null,
            "align_items": null,
            "align_self": null,
            "border": null,
            "bottom": null,
            "display": null,
            "flex": null,
            "flex_flow": null,
            "grid_area": null,
            "grid_auto_columns": null,
            "grid_auto_flow": null,
            "grid_auto_rows": null,
            "grid_column": null,
            "grid_gap": null,
            "grid_row": null,
            "grid_template_areas": null,
            "grid_template_columns": null,
            "grid_template_rows": null,
            "height": null,
            "justify_content": null,
            "justify_items": null,
            "left": null,
            "margin": null,
            "max_height": null,
            "max_width": null,
            "min_height": null,
            "min_width": null,
            "object_fit": null,
            "object_position": null,
            "order": null,
            "overflow": null,
            "overflow_x": null,
            "overflow_y": null,
            "padding": null,
            "right": null,
            "top": null,
            "visibility": null,
            "width": null
          }
        },
        "e687d40fead54f798b2b8672fc1ced62": {
          "model_module": "@jupyter-widgets/base",
          "model_name": "LayoutModel",
          "model_module_version": "1.2.0",
          "state": {
            "_model_module": "@jupyter-widgets/base",
            "_model_module_version": "1.2.0",
            "_model_name": "LayoutModel",
            "_view_count": null,
            "_view_module": "@jupyter-widgets/base",
            "_view_module_version": "1.2.0",
            "_view_name": "LayoutView",
            "align_content": null,
            "align_items": null,
            "align_self": null,
            "border": null,
            "bottom": null,
            "display": null,
            "flex": null,
            "flex_flow": null,
            "grid_area": null,
            "grid_auto_columns": null,
            "grid_auto_flow": null,
            "grid_auto_rows": null,
            "grid_column": null,
            "grid_gap": null,
            "grid_row": null,
            "grid_template_areas": null,
            "grid_template_columns": null,
            "grid_template_rows": null,
            "height": null,
            "justify_content": null,
            "justify_items": null,
            "left": null,
            "margin": null,
            "max_height": null,
            "max_width": null,
            "min_height": null,
            "min_width": null,
            "object_fit": null,
            "object_position": null,
            "order": null,
            "overflow": null,
            "overflow_x": null,
            "overflow_y": null,
            "padding": null,
            "right": null,
            "top": null,
            "visibility": null,
            "width": null
          }
        },
        "36fad74823444573abe9adab9928c435": {
          "model_module": "@jupyter-widgets/controls",
          "model_name": "DescriptionStyleModel",
          "model_module_version": "1.5.0",
          "state": {
            "_model_module": "@jupyter-widgets/controls",
            "_model_module_version": "1.5.0",
            "_model_name": "DescriptionStyleModel",
            "_view_count": null,
            "_view_module": "@jupyter-widgets/base",
            "_view_module_version": "1.2.0",
            "_view_name": "StyleView",
            "description_width": ""
          }
        },
        "b0633e32bb0d43baac2be42d4ebf258d": {
          "model_module": "@jupyter-widgets/base",
          "model_name": "LayoutModel",
          "model_module_version": "1.2.0",
          "state": {
            "_model_module": "@jupyter-widgets/base",
            "_model_module_version": "1.2.0",
            "_model_name": "LayoutModel",
            "_view_count": null,
            "_view_module": "@jupyter-widgets/base",
            "_view_module_version": "1.2.0",
            "_view_name": "LayoutView",
            "align_content": null,
            "align_items": null,
            "align_self": null,
            "border": null,
            "bottom": null,
            "display": null,
            "flex": null,
            "flex_flow": null,
            "grid_area": null,
            "grid_auto_columns": null,
            "grid_auto_flow": null,
            "grid_auto_rows": null,
            "grid_column": null,
            "grid_gap": null,
            "grid_row": null,
            "grid_template_areas": null,
            "grid_template_columns": null,
            "grid_template_rows": null,
            "height": null,
            "justify_content": null,
            "justify_items": null,
            "left": null,
            "margin": null,
            "max_height": null,
            "max_width": null,
            "min_height": null,
            "min_width": null,
            "object_fit": null,
            "object_position": null,
            "order": null,
            "overflow": null,
            "overflow_x": null,
            "overflow_y": null,
            "padding": null,
            "right": null,
            "top": null,
            "visibility": null,
            "width": null
          }
        },
        "8f5bea2518454ad2b283e08176107e2e": {
          "model_module": "@jupyter-widgets/controls",
          "model_name": "ProgressStyleModel",
          "model_module_version": "1.5.0",
          "state": {
            "_model_module": "@jupyter-widgets/controls",
            "_model_module_version": "1.5.0",
            "_model_name": "ProgressStyleModel",
            "_view_count": null,
            "_view_module": "@jupyter-widgets/base",
            "_view_module_version": "1.2.0",
            "_view_name": "StyleView",
            "bar_color": null,
            "description_width": ""
          }
        },
        "3fc4a0af92f846b2956e7b8a40e9daed": {
          "model_module": "@jupyter-widgets/base",
          "model_name": "LayoutModel",
          "model_module_version": "1.2.0",
          "state": {
            "_model_module": "@jupyter-widgets/base",
            "_model_module_version": "1.2.0",
            "_model_name": "LayoutModel",
            "_view_count": null,
            "_view_module": "@jupyter-widgets/base",
            "_view_module_version": "1.2.0",
            "_view_name": "LayoutView",
            "align_content": null,
            "align_items": null,
            "align_self": null,
            "border": null,
            "bottom": null,
            "display": null,
            "flex": null,
            "flex_flow": null,
            "grid_area": null,
            "grid_auto_columns": null,
            "grid_auto_flow": null,
            "grid_auto_rows": null,
            "grid_column": null,
            "grid_gap": null,
            "grid_row": null,
            "grid_template_areas": null,
            "grid_template_columns": null,
            "grid_template_rows": null,
            "height": null,
            "justify_content": null,
            "justify_items": null,
            "left": null,
            "margin": null,
            "max_height": null,
            "max_width": null,
            "min_height": null,
            "min_width": null,
            "object_fit": null,
            "object_position": null,
            "order": null,
            "overflow": null,
            "overflow_x": null,
            "overflow_y": null,
            "padding": null,
            "right": null,
            "top": null,
            "visibility": null,
            "width": null
          }
        },
        "0d98b58c3de245e6b852dc7aeab2486f": {
          "model_module": "@jupyter-widgets/controls",
          "model_name": "DescriptionStyleModel",
          "model_module_version": "1.5.0",
          "state": {
            "_model_module": "@jupyter-widgets/controls",
            "_model_module_version": "1.5.0",
            "_model_name": "DescriptionStyleModel",
            "_view_count": null,
            "_view_module": "@jupyter-widgets/base",
            "_view_module_version": "1.2.0",
            "_view_name": "StyleView",
            "description_width": ""
          }
        }
      }
    }
  },
  "nbformat": 4,
  "nbformat_minor": 0
}