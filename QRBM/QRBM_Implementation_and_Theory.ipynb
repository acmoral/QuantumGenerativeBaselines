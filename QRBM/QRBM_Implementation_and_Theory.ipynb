{
  "nbformat": 4,
  "nbformat_minor": 0,
  "metadata": {
    "colab": {
      "provenance": [],
      "collapsed_sections": [
        "ABDqP9O4EsVd",
        "xnHVfXv7V2LX"
      ],
      "include_colab_link": true
    },
    "kernelspec": {
      "name": "python3",
      "display_name": "Python 3"
    },
    "language_info": {
      "name": "python"
    }
  },
  "cells": [
    {
      "cell_type": "markdown",
      "metadata": {
        "id": "view-in-github",
        "colab_type": "text"
      },
      "source": [
        "<a href=\"https://colab.research.google.com/github/acmoral/QuantumGenerativeBaselines/blob/master/QRBM/QRBM_Implementation_and_Theory.ipynb\" target=\"_parent\"><img src=\"https://colab.research.google.com/assets/colab-badge.svg\" alt=\"Open In Colab\"/></a>"
      ]
    },
    {
      "cell_type": "markdown",
      "source": [
        "# Restricted Boltzmann machines and Quantum Computing\n",
        "##A revision of Marek subocz QRBM implementation"
      ],
      "metadata": {
        "id": "jIu3KYlkHMAv"
      }
    },
    {
      "cell_type": "markdown",
      "metadata": {
        "id": "H9e7g5oY0XBW"
      },
      "source": [
        "\n",
        "Universidad Nacional de Colombia\n",
        "\n",
        "Sergio Quiroga Sandoval, squirogas@unal.edu.co\n",
        "\n",
        "This notebook gathers some basic theory on restricted Boltzmann machines (RBM) and presents a review with minor modifications of a Quantum implementation (MSQRBM) from [Marec Subocz ](https://github.com/mareksubocz/QRBM) github.\n",
        "\n"
      ]
    },
    {
      "cell_type": "markdown",
      "source": [
        "## Libraries and imports"
      ],
      "metadata": {
        "id": "GdMAGgtvHL4J"
      }
    },
    {
      "cell_type": "code",
      "source": [
        "!pip install dwave.system\n",
        "!pip install pyqubo\n",
        "!pip install dwave-tabu\n",
        "!pip install tensorflow"
      ],
      "metadata": {
        "id": "pigXdaeQQ0Fc",
        "collapsed": true
      },
      "execution_count": null,
      "outputs": []
    },
    {
      "cell_type": "code",
      "source": [
        "from dwave.system.composites import EmbeddingComposite\n",
        "from dwave.system.samplers import DWaveSampler\n",
        "\n",
        "from pyqubo import Binary\n",
        "import tabu\n",
        "\n",
        "import copy\n",
        "import operator\n",
        "import random\n",
        "import sys\n",
        "import matplotlib.pyplot as plt\n",
        "%matplotlib inline\n",
        "plt.rcParams['image.cmap'] = 'gray'\n",
        "import numpy as np\n",
        "import timeit\n",
        "\n",
        "import pandas as pd\n",
        "import cv2 as cv\n",
        "from skimage import data, color\n",
        "from skimage.transform import rescale, resize, downscale_local_mean\n",
        "from skimage import img_as_bool\n",
        "from tqdm import tqdm_notebook as tqdm\n",
        "\n",
        "#from qrbm.MSQRBM import MSQRBM\n",
        "#from qrbm.classicalRBM import classicalRBM"
      ],
      "metadata": {
        "id": "rQwNF-Ydh-L9"
      },
      "execution_count": null,
      "outputs": []
    },
    {
      "cell_type": "code",
      "source": [
        "# For using real D-wave devices run this cell and turn qpu flag variable to True when calling MSQRBM.\n",
        "# Not available in all countries...\n",
        "#!dwave setup --auth"
      ],
      "metadata": {
        "id": "FamJ2jr6TcZ5"
      },
      "execution_count": null,
      "outputs": []
    },
    {
      "cell_type": "markdown",
      "source": [
        "## Classical RBM theory and Math: energy and model probability and CD1"
      ],
      "metadata": {
        "id": "ABDqP9O4EsVd"
      }
    },
    {
      "cell_type": "markdown",
      "source": [
        "The following is the graph of a general Restricted Boltzmann Machine, it is a Graphical model that uses a hiden layer of"
      ],
      "metadata": {
        "id": "pGOd9d-KlMCp"
      }
    },
    {
      "cell_type": "code",
      "source": [
        "# A RBM Graph for hidden and visible layers visualization, taken from:\n",
        "# Oh, S., Baggag, A., & Nha, H. (2020). Entropy, Free Energy, and Work of Restricted Boltzmann Machines. Entropy (Basel, Switzerland), 22(5), 538. https://doi.org/10.3390/e22050538\n",
        "from IPython.display import Image\n",
        "from IPython.core.display import HTML\n",
        "Image(url= \"https://cdn.ncbi.nlm.nih.gov/pmc/blobs/6a14/7517032/80d72a744355/entropy-22-00538-g001.jpg\")"
      ],
      "metadata": {
        "colab": {
          "base_uri": "https://localhost:8080/",
          "height": 569
        },
        "id": "PqO6TUSaI3oJ",
        "outputId": "50a3b371-39a7-40f4-e05c-caa7a27780bb"
      },
      "execution_count": null,
      "outputs": [
        {
          "output_type": "execute_result",
          "data": {
            "text/html": [
              "<img src=\"https://cdn.ncbi.nlm.nih.gov/pmc/blobs/6a14/7517032/80d72a744355/entropy-22-00538-g001.jpg\"/>"
            ],
            "text/plain": [
              "<IPython.core.display.Image object>"
            ]
          },
          "metadata": {},
          "execution_count": 20
        }
      ]
    },
    {
      "cell_type": "markdown",
      "source": [
        "Following Geoffrey Hinton’s practical guide for training RBMs:\n",
        "\n",
        "A Restricted Boltzmann Machine assigns an energy to each joint configuration $(v,h)$ of binary visible and hidden units; the energy formulation traces to Hopfield’s work on neural networks (Hopfield, 1982). In summation notation the energy is written as\n",
        "\n",
        "$$\n",
        "E(v,h)\n",
        "\\;=\\;\n",
        "- \\sum_{i\\in\\text{visible}} a_i\\, v_i\n",
        "\\;-\\; \\sum_{j\\in\\text{hidden}} b_j\\, h_j\n",
        "\\;-\\; \\sum_{i\\in\\text{visible}}\\sum_{j\\in\\text{hidden}} v_i\\,h_j\\,w_{ij},\n",
        "$$\n",
        "\n",
        "where $v_i,h_j\\in\\{0,1\\}$ are the binary states of visible unit $i$ and hidden unit $j$; $a_i$ and $b_j$ are visible and hidden biases respectively; and $w_{ij}$ is the weight coupling visible $i$ to hidden $j$.\n",
        "\n",
        "This energy induces a Boltzmann distribution over joint states:\n",
        "\n",
        "$$\n",
        "p_\\theta(v,h) \\;=\\; \\frac{\\exp\\!\\big(-E(v,h)\\big)}{Z}, \\qquad\n",
        "Z \\;=\\; \\sum_{v,h} \\exp\\!\\big(-E(v,h)\\big),\n",
        "$$\n",
        "\n",
        "and the marginal probability of a visible vector is obtained by summing out the hidden states:\n",
        "\n",
        "$$\n",
        "p_\\theta(v) \\;=\\; \\frac{1}{Z}\\sum_{h} \\exp\\!\\big(-E(v,h)\\big).\n",
        "$$\n",
        "\n",
        "Because the partition function $Z$ sums over exponentially many configurations, exact maximum-likelihood learning is infeasible except for the smallest models. In practice one therefore uses approximate training; the canonical practical method is Contrastive Divergence (CD), of which CD-1 is the simplest useful variant. The exact gradient identity for a weight $w_{ij}$ is\n",
        "\n",
        "$$\n",
        "\\frac{\\partial \\log p_\\theta(v)}{\\partial w_{ij}}\n",
        "= \\langle v_i h_j\\rangle_{\\text{data}}\n",
        "- \\langle v_i h_j\\rangle_{\\text{model}},\n",
        "$$\n",
        "\n",
        "where $\\langle\\cdot\\rangle_{\\text{data}}$ denotes expectation under the data-driven conditional distribution and $\\langle\\cdot\\rangle_{\\text{model}}$ denotes expectation under the model’s equilibrium distribution. Because the model expectation is expensive to compute, CD approximates it by running a short Gibbs chain initialized at the data. In the CD-1 approximation the weight update becomes\n",
        "\n",
        "$$\n",
        "\\Delta w_{ij} \\;\\approx\\; \\varepsilon\\big(v_i h_j - v'_i h'_j\\big),\n",
        "$$\n",
        "\n",
        "where $(v,h)$ are the data-driven visible/hidden states (positive phase) and $(v',h')$ are their one-step reconstructions (negative phase); $\\varepsilon$ is the learning rate. In code, the positive and negative pairwise statistics are implemented via outer products (`pos_grad = np.outer(v, h)` and `neg_grad = np.outer(v_prim, h_prim)`) and the weight matrix is updated with `W += lr * (pos_grad - neg_grad)` (optionally combined with momentum)—this directly follows the CD-1 recipe and practical recommendations summarized by Hinton.\n",
        "\n",
        "Sampling / generation proceeds by alternating conditional updates between layers. For binary units the conditional activation probabilities are logistic:\n",
        "\n",
        "$$\n",
        "\\Pr(h_j=1\\mid v) = \\sigma\\!\\Big(b_j + \\sum_i v_i w_{ij}\\Big),\\qquad\n",
        "\\Pr(v_i=1\\mid h) = \\sigma\\!\\Big(a_i + \\sum_j h_j w_{ij}\\Big),\n",
        "$$\n",
        "\n",
        "with $\\sigma(x)=1/(1+e^{-x})$. A single Gibbs pair used for reconstruction follows\n",
        "\n",
        "$$\n",
        "v^{(0)} \\xrightarrow{p(h\\mid v^{(0)})} h^{(0)} \\xrightarrow{p(v\\mid h^{(0)})} v^{(1)},\n",
        "$$\n",
        "\n",
        "and CD-style training uses the resulting $(v',h')$ to form the negative statistics. Hinton’s guide discusses when to use stochastic binary draws versus using the probabilities directly (practical trade-offs between sampling noise and estimator variance).\n",
        "\n",
        "For evaluation, reconstruction error (e.g., squared error between data and reconstructions) is a simple and commonly reported diagnostic, but it is not the same as model likelihood and can be misleading. A more principled scalar is the free energy of a visible vector (which can be computed efficiently and cancels the partition function when comparing examples), but the code’s simple evaluation—returning the minimal squared distance between a candidate reconstruction $r$ and a reference set $\\mathcal{P}$,\n",
        "\n",
        "$$\n",
        "\\text{evaluate}(r) \\;=\\; \\min_{p\\in\\mathcal{P}} \\|r-p\\|_2^2,\n",
        "$$\n",
        "\n",
        "remains an easy-to-compute metric, with the caveat that it does not directly measure generative likelihood.\n",
        "\n",
        "\n"
      ],
      "metadata": {
        "id": "bSvMAO8ii6KX"
      }
    },
    {
      "cell_type": "markdown",
      "source": [
        "For training The boltzmann machine, the MSQRBM implementation will use **single-step Contrastive Divergence (CD-1)** with optional momentum and learning-rate decay. For one selected training vector $v$ the intended mathematical steps are:\n",
        "\n",
        "1. Positive phase — hidden sampling\n",
        "\n",
        "   $$\n",
        "   p(h_j{=}1\\mid v)=\\sigma\\!\\Big(b_j+\\sum_i W_{ij}v_i\\Big),\\qquad h\\sim p(h\\mid v).\n",
        "   $$\n",
        "2. Positive gradient\n",
        "\n",
        "   $$\n",
        "   G^{+}=v\\otimes h.\n",
        "   $$\n",
        "3. Negative phase — visible reconstruction\n",
        "\n",
        "   $$\n",
        "   p(v_i'{=}1\\mid h)=\\sigma\\!\\Big(a_i+\\sum_j W_{ij}h_j\\Big),\\qquad v'\\sim p(v\\mid h).\n",
        "   $$\n",
        "4. Negative hidden sampling\n",
        "\n",
        "   $$\n",
        "   p(h'_j{=}1\\mid v')=\\sigma\\!\\Big(b_j+\\sum_i W_{ij}v'_i\\Big),\\qquad h'\\sim p(h\\mid v').\n",
        "   $$\n",
        "5. Negative gradient\n",
        "\n",
        "   $$\n",
        "   G^{-}=v'\\otimes h'.\n",
        "   $$\n",
        "6. Parameter updates (stochastic approximation with optional momentum $\\mu$ and learning rate $\\epsilon$)\n",
        "\n",
        "   $$\n",
        "   \\Delta W=\\epsilon\\,(G^{+}-G^{-}),\\quad\n",
        "   a\\leftarrow a+\\epsilon\\,(v-v'),\\quad\n",
        "   b\\leftarrow b+\\epsilon\\,(h-h').\n",
        "   $$\n",
        "\n",
        "   With momentum the code implements velocity updates of the form\n",
        "\n",
        "   $$\n",
        "   V_W \\leftarrow \\mu V_W + \\epsilon\\,(G^{+}-G^{-}),\\qquad W\\leftarrow W+V_W,\n",
        "   $$\n",
        "\n",
        "   and analogous updates for $a$ and $b$.\n"
      ],
      "metadata": {
        "id": "uQFjouU1lEMP"
      }
    },
    {
      "cell_type": "markdown",
      "source": [
        "## Sampling method ([sampler.py ](https://github.com/mareksubocz/QRBM/blob/master/qrbm/sampler.py) )"
      ],
      "metadata": {
        "id": "EzdfpfxvEvUu"
      }
    },
    {
      "cell_type": "markdown",
      "source": [
        "The sampler converts a *conditional inference* step in a bipartite model (visible ↔ hidden) into a small optimization/sampling problem expressed as a Binary Quadratic Model (BQM).\n",
        "* The BQM is then solved by either:\n",
        "\n",
        "  * a real D-Wave QPU via an embedding composite, or\n",
        "  * a classical heuristic solver (`tabu`), depending on the `qpu` flag.\n",
        "* Two main services are provided:\n",
        "\n",
        "  1. sample the **opposite** layer conditioned on a fixed layer state.\n",
        "  2. propose a visible configuration based only on visible biases.\n",
        "\n",
        "and returns an index-ordered binary vector representing the solver’s selected low-energy configuration — an optimization-style reconstruction rather than a Gibbs-distributed stochastic sample.\n",
        "\n"
      ],
      "metadata": {
        "id": "eCI8kjZELMuf"
      }
    },
    {
      "cell_type": "markdown",
      "source": [
        "Mapping from the RBM to the BQM used by the code\n",
        "\n",
        "Begin from the RBM joint energy\n",
        "\n",
        "$$\n",
        "E(v,h) = -a^\\top v \\;-\\; b^\\top h \\;-\\; v^\\top W h,\n",
        "$$\n",
        "\n",
        "with $v\\in\\{0,1\\}^{n_v}$, $h\\in\\{0,1\\}^{n_h}$, $a$ visible biases, $b$ hidden biases, and $W$ the weight matrix.\n",
        "\n",
        "The conditional energy for the hidden layer given a fixed visible $v$ is\n",
        "\n",
        "$$\n",
        "E(h \\mid v) = - b^\\top h - v^\\top W h\n",
        "           = -\\sum_{j} \\Big(b_j + \\sum_{i} v_i W_{ij}\\Big)\\, h_j.\n",
        "$$\n",
        "\n",
        "Because standard RBMs contain no hidden–hidden couplings, $E(h\\mid v)$ is linear in the hidden bits $h_j$. The implementation constructs a binary quadratic model (BQM) whose linear coefficients are\n",
        "\n",
        "$$\n",
        "\\gamma_j \\;=\\; b_j + \\sum_{i} v_i W_{ij},\n",
        "$$\n",
        "\n",
        "equivalently $\\gamma_j = b_j + \\sum_{i:\\,v_i=1} W_{ij}$ since $v_i\\in\\{0,1\\}$. The code’s symbolic Hamiltonian therefore equals\n",
        "\n",
        "$$\n",
        "H_{\\text{cond}}(h) \\;=\\; -\\sum_j \\gamma_j\\, h_j,\n",
        "$$\n",
        "\n",
        "i.e. a purely linear BQM in the unknown hidden variables (no quadratic hidden–hidden terms are constructed).\n"
      ],
      "metadata": {
        "id": "kpwYCdmIjaD9"
      }
    },
    {
      "cell_type": "code",
      "source": [
        "def sample_opposite_layer_minorminer(v, layer, weights, opposite_layer: int):\n",
        "    raise NotImplementedError\n",
        "\n",
        "def sample_opposite_layer_pyqubo(v, layer, weights, opposite_layer,\n",
        "                                 qpu=False, chain_strength=2, num_reads=1):\n",
        "    # initialize Hamiltonian\n",
        "    H = 0\n",
        "    H_vars = []\n",
        "\n",
        "    # initialize all variables (one for each node in the opposite layer)\n",
        "    for j in range(len(opposite_layer)):\n",
        "        H_vars.append(Binary(str(j)))\n",
        "\n",
        "    for i, bias in enumerate(layer):\n",
        "        # filter only chosen nodes in the first layer\n",
        "        if not v[i]:\n",
        "            continue\n",
        "\n",
        "        # add reward to every connection\n",
        "        for j, opp_bias in enumerate(opposite_layer):\n",
        "            H += -1 * weights[i][j] * H_vars[j]\n",
        "\n",
        "    for j, opp_bias in enumerate(opposite_layer):\n",
        "        H += -1 * opp_bias * H_vars[j]\n",
        "\n",
        "\n",
        "    model = H.compile()\n",
        "    # print(model)\n",
        "    bqm = model.to_bqm()\n",
        "    # print(bqm)\n",
        "\n",
        "    # choose if you want to use real QPU or local simulation\n",
        "    if qpu: sampler = EmbeddingComposite(DWaveSampler())\n",
        "    else:   sampler = tabu.TabuSampler()\n",
        "\n",
        "    # reading num_reads responses from the sampler\n",
        "    sampleset = sampler.sample(bqm, chain_strength=chain_strength, num_reads=num_reads)\n",
        "    solution1 = sampleset.first.sample\n",
        "    # print(solution1)\n",
        "    solution1_list = [(k, v) for k, v in solution1.items()]\n",
        "    solution1_list.sort(key=lambda tup: int(tup[0]))  # sorts in place\n",
        "    solution1_list_final = [v for (k, v) in solution1_list]\n",
        "    return solution1_list_final\n",
        "\n",
        "\n",
        "def sample_v(layer, qpu=False, chain_strength=10, num_reads=1):\n",
        "    H = 0\n",
        "\n",
        "    for i, bias in enumerate(layer):\n",
        "        H += -1 * bias * Binary(str(i))\n",
        "\n",
        "    model = H.compile()\n",
        "    bqm = model.to_bqm()\n",
        "\n",
        "    # choose if you want to use real QPU or local simulation\n",
        "    if qpu: sampler = EmbeddingComposite(DWaveSampler())\n",
        "    else:   sampler = tabu.TabuSampler()\n",
        "\n",
        "    # reading num_reads responses from the sampler\n",
        "    sampleset = sampler.sample(bqm, chain_strength=chain_strength, num_reads=num_reads)\n",
        "    solution1 = sampleset.first.sample\n",
        "    # print(solution1)\n",
        "    solution1_list = [(k, v) for k, v in solution1.items()]\n",
        "    solution1_list.sort(key=lambda tup: int(tup[0]))  # sorts in place\n",
        "    solution1_list_final = [v for (k, v) in solution1_list]\n",
        "    return solution1_list_final\n",
        "\n",
        "if __name__ == \"__main__\":\n",
        "\n",
        "    # example from https://www.youtube.com/watch?v=Fkw0_aAtwIw (22:50)\n",
        "    v = [0,1,0]\n",
        "    layer = [1,1,1]\n",
        "    weights = [[2,-2], [-4, 4], [2,-2]]\n",
        "    opp_layer = [2,1]\n",
        "\n",
        "    sampleset = sample_opposite_layer_pyqubo(v, layer, weights, opp_layer,\n",
        "                                             qpu=False) # Changed from True to False\n",
        "    sampleset2 = sample_v(layer, qpu=False) # Changed from True to False\n",
        "    print(sampleset)\n",
        "    print(sampleset2)\n",
        "\n",
        "    # using the best (lowest energy) sample\n",
        "    # Removed the lines below as sampleset is a list, not a sampleset object\n",
        "    # solution1 = sampleset.first.sample\n",
        "    # print(solution1)\n",
        "    # solution1_list = [(k, v) for k, v in solution1.items()]\n",
        "    # solution1_list.sort(key=lambda tup: int(tup[0]))  # sorts in place\n",
        "    # solution1_list_final = [v for (k, v) in solution1_list]"
      ],
      "metadata": {
        "colab": {
          "base_uri": "https://localhost:8080/"
        },
        "id": "DBMJZiz1aAxd",
        "outputId": "d76f842e-a66f-4af5-c4ce-e302883e9ec3"
      },
      "execution_count": null,
      "outputs": [
        {
          "output_type": "stream",
          "name": "stdout",
          "text": [
            "[np.int8(0), np.int8(1)]\n",
            "[np.int8(1), np.int8(1), np.int8(1)]\n"
          ]
        }
      ]
    },
    {
      "cell_type": "markdown",
      "source": [
        "## MSQRBM algorithm\n"
      ],
      "metadata": {
        "id": "f3ert2459cmO"
      }
    },
    {
      "cell_type": "markdown",
      "source": [
        "\n",
        "MSQRBM uses the hybrid classical/quantum sampler to implement a Restricted Boltzmann Machine (RBM) style model in which the visible layer `v` and the hidden layer `h` are binary vectors. The implemented MSQRBM:\n",
        "\n",
        "* stores model parameters (weights and biases).\n",
        "* trains with single-step Contrastive Divergence (CD-1) using an external sampler.\n",
        "* can generate new visible samples via Gibbs steps that call the sampler.\n",
        "* evaluates generated samples against MNIST reference pictures.\n"
      ],
      "metadata": {
        "id": "aSa6MZMWi5wm"
      }
    },
    {
      "cell_type": "markdown",
      "source": [
        "The Training code:\n",
        "\n",
        "* **delegates** sampling to an external routine (`sample_opposite_layer_pyqubo` / sampler): the code calls that routine to obtain $h$, $v'$ and $h'$ rather than performing explicit sigmoid+Bernoulli draws in-place;\n",
        "* computes `pos_grad = np.outer(v,h)` and `neg_grad = np.outer(v_prim,h_prim)` and applies the momentum-augmented updates shown above;\n",
        "* implements learning-rate decay by multiplicative factor `lr *= (1-lr_decay)` when the epoch index satisfies a periodic condition based on `epoch_drop`;\n",
        "* records a diagnostic reconstruction error per epoch as a proxy metric: $\\sum_i (v_i - \\hat v_i)^2$.\n"
      ],
      "metadata": {
        "id": "6SuW7wZhg6oX"
      }
    },
    {
      "cell_type": "code",
      "source": [
        "# Sigmoid activation function used to convert linear inputs into probabilities. σ(x) = 1 / (1 + exp(-x)).\n",
        "def sigmoid(x):\n",
        "    result = 1 / (1 + np.exp(-x))\n",
        "    return result\n",
        "\n",
        "class MSQRBM:\n",
        "    def __init__(self,\n",
        "                 n_visible,\n",
        "                 n_hidden,\n",
        "                 err_function='mse',\n",
        "                 qpu=False,\n",
        "                 chain_strength=5,\n",
        "                 use_tqdm=True,\n",
        "                 tqdm=None,\n",
        "                 result_picture_tab = None):\n",
        "\n",
        "        # Validate error function selection early to fail fast if misconfigured.\n",
        "        if err_function not in {'mse', 'cosine'}:\n",
        "            raise ValueError('err_function should be either \\'mse\\' or \\'cosine\\'')\n",
        "\n",
        "        # Progress-bar control: store flags and (optionally) a tqdm callable.\n",
        "        # If use_tqdm=True (or a tqdm object is provided) the training loop will\n",
        "        # iterate with self.tqdm(...) to display progress.\n",
        "        self._use_tqdm = use_tqdm\n",
        "        self._tqdm = None\n",
        "\n",
        "        if use_tqdm or tqdm is not None:\n",
        "            from tqdm import tqdm  # import here to avoid hard dependency at module import\n",
        "            self._tqdm = tqdm\n",
        "\n",
        "        # Model architecture parameters\n",
        "        self.n_visible = n_visible          # number of visible units (size of v)\n",
        "        self.n_hidden = n_hidden            # number of hidden units (size of h)\n",
        "        self.qpu = qpu                      # whether to use quantum hardware sampler\n",
        "        self.cs = chain_strength            # chain strength for sampler embedding\n",
        "\n",
        "        # Model parameters initialization:\n",
        "        #   - w: weights with shape (n_visible, n_hidden)\n",
        "        #   - visible_bias: a (length n_visible)\n",
        "        #   - hidden_bias: b (length n_hidden)\n",
        "        # Random init in (-1,1) — simple, small-scale randomization.\n",
        "        self.w = (np.random.rand(self.n_visible, self.n_hidden) * 2 - 1) * 1\n",
        "        self.visible_bias = (np.random.rand(self.n_visible) * 2 - 1) * 1\n",
        "        self.hidden_bias = (np.random.rand(self.n_hidden) * 2 - 1) * 1\n",
        "\n",
        "        # Placeholder for a custom sampler object if desired.\n",
        "        # self.sampler = Sampler()\n",
        "\n",
        "        # bookkeeping\n",
        "        self.n_epoch = 0\n",
        "        self.result_picture_tab = result_picture_tab\n",
        "\n",
        "    # Simple accessor to get current model parameters\n",
        "    def get_weights(self):\n",
        "        return self.w, \\\n",
        "               self.visible_bias, \\\n",
        "               self.hidden_bias\n",
        "\n",
        "    # Setter to replace model parameters (use with care; assume correct shapes)\n",
        "    def set_weights(self, w, visible_bias, hidden_bias):\n",
        "        self.w = w\n",
        "        self.visible_bias = visible_bias\n",
        "        self.hidden_bias = hidden_bias\n",
        "\n",
        "\n",
        "    def train(self, training_data, len_x=1, len_y=1, epochs=50, lr=0.1, lr_decay=0.1, epoch_drop = None, momentum = 0, batch_size = None):\n",
        "        \"\"\"\n",
        "            Train using single-step Contrastive Divergence (CD-1) with optional momentum.\n",
        "            Steps implemented per-epoch:\n",
        "              1) select training sample v (cyclic selection using epoch % len(training_data))\n",
        "              2) sample h ~ p(h|v) using external sampler (positive phase)\n",
        "              3) compute pos_grad = v ⊗ h\n",
        "              4) reconstruct v' from h (negative phase) and resample h'\n",
        "              5) compute neg_grad = v' ⊗ h'\n",
        "              6) update weights/biases with lr and optional momentum\n",
        "            Notes/assumptions:\n",
        "              - This implementation delegates sampling to sample_opposite_layer_pyqubo(...)\n",
        "              - Learning-curve is tracked as sum-of-squared differences between v and reconstruction\n",
        "        \"\"\"\n",
        "        learning_curve_plot = []\n",
        "\n",
        "        # Default epoch_drop: one-fifth of epochs (original code used float division; this value will be used in modulo checks)\n",
        "        if epoch_drop == None:\n",
        "            epoch_drop = epochs / 5\n",
        "\n",
        "        # Initialize momentum velocities for weights and biases\n",
        "        momentum_w = np.zeros((len(self.visible_bias), len(self.hidden_bias)))\n",
        "        momentum_v = np.zeros(len(self.visible_bias))\n",
        "        momentum_h = np.zeros(len(self.hidden_bias))\n",
        "\n",
        "        # Iterate through epochs; using self.tqdm(...) if available provides a progress bar.\n",
        "        for epoch in self.tqdm(range(epochs)):\n",
        "            # 1. Select the training sample (cyclic selection)\n",
        "            random_selected_training_data_idx = epoch % len(training_data)\n",
        "            v = training_data[random_selected_training_data_idx]\n",
        "            old_v = v  # used for persistent CD style behavior (may be overwritten below)\n",
        "\n",
        "            # If batch_size is used to implement a simple persistent-like behavior, the code\n",
        "            # reuses v_prim from previous iteration when not on batch boundary.\n",
        "            # WARNING: v_prim must be defined from a prior iteration otherwise this raises NameError.\n",
        "            if batch_size is not None:\n",
        "                if epoch % batch_size != 0:\n",
        "                    old_v = v_prim\n",
        "\n",
        "            # 1.2 Compute hidden activations' probabilities (classical version shown for reference)\n",
        "            # prob_h = sigmoid(self.hidden_bias + np.dot(v, self.w))\n",
        "            # h = (np.random.rand(len(self.hidden_bias)) < prob_h).astype(int)\n",
        "\n",
        "            # Persistent CD behavior: sample h conditioned on old_v using external sampler.\n",
        "            # Expectation: sample_opposite_layer_pyqubo returns a list/array of 0/1 values.\n",
        "            h = sample_opposite_layer_pyqubo(old_v, self.visible_bias,\n",
        "                                                  self.w, self.hidden_bias,\n",
        "                                                  qpu=self.qpu,\n",
        "                                                  chain_strength=self.cs)\n",
        "            # pos_grad: positive phase outer product v ⊗ h\n",
        "            pos_grad = np.outer(v, h)\n",
        "\n",
        "            # 3. Reconstruct visible from sampled hidden units (negative phase)\n",
        "            v_prim = sample_opposite_layer_pyqubo(h, self.hidden_bias,\n",
        "                                                       self.w.T,\n",
        "                                                       self.visible_bias,\n",
        "                                                       qpu=self.qpu,\n",
        "                                                       chain_strength=self.cs)\n",
        "\n",
        "            # 3.2 Recompute hidden from reconstruction\n",
        "            h_prim = sample_opposite_layer_pyqubo(v_prim,\n",
        "                                                       self.visible_bias,\n",
        "                                                       self.w, self.hidden_bias,\n",
        "                                                       qpu=self.qpu,\n",
        "                                                       chain_strength=self.cs)\n",
        "\n",
        "            # 4. Negative gradient computed from reconstruction\n",
        "            neg_grad = np.outer(v_prim, h_prim)\n",
        "\n",
        "            # 5. Weight update with optional momentum\n",
        "            momentum_w = momentum * momentum_w + lr * (pos_grad - neg_grad)\n",
        "            self.w += momentum_w\n",
        "\n",
        "            # 6. Bias updates with momentum\n",
        "            momentum_v = momentum * momentum_v + lr * (np.array(v) - np.array(v_prim))\n",
        "            momentum_h = momentum * momentum_h + lr * (np.array(h) - np.array(h_prim))\n",
        "\n",
        "            self.visible_bias += momentum_v\n",
        "            self.hidden_bias += momentum_h\n",
        "\n",
        "            # Optional: after certain epochs, decay learning rate\n",
        "            if epoch % epoch_drop == (epoch_drop-1):\n",
        "                lr *= (1 - lr_decay)\n",
        "\n",
        "            # Diagnostics: compute reconstruction error for learning curve\n",
        "            sample_v = v  # here sample_v is treated as the current visible (not as a function)\n",
        "            sample_h = sample_opposite_layer_pyqubo(sample_v,\n",
        "                                                         self.visible_bias,\n",
        "                                                         self.w,\n",
        "                                                         self.hidden_bias,\n",
        "                                                         qpu=self.qpu,\n",
        "                                                         chain_strength=self.cs)\n",
        "            sample_output = sample_opposite_layer_pyqubo(sample_h,\n",
        "                                                              self.hidden_bias,\n",
        "                                                              self.w.T,\n",
        "                                                              self.visible_bias,\n",
        "                                                              qpu=self.qpu,\n",
        "                                                              chain_strength=self.cs)\n",
        "            learning_curve_plot.append(np.sum((np.array(v) - np.array(sample_output))**2))\n",
        "\n",
        "\n",
        "        # End of training: plot learning curve (normalised MSE proxy)\n",
        "        plt.figure()\n",
        "        plt.plot(learning_curve_plot)\n",
        "        plt.xlabel('epoch')\n",
        "        plt.ylabel('normalised MSE')\n",
        "        plt.show()\n",
        "        return\n",
        "\n",
        "    def generate(self, test_img = None):\n",
        "        # Generate a single reconstruction:\n",
        "        #  - if test_img is provided use it as initial visible vector; otherwise sample a visible prior\n",
        "        sample_v = []\n",
        "        if test_img == None:\n",
        "            # NOTE: this line intends to call an external function named sample_v(...)\n",
        "            # but here sample_v is also the target variable name; this mirrors the original code\n",
        "            sample_v = sample_v(self.visible_bias, qpu=self.qpu,\n",
        "                                     chain_strength=self.cs)\n",
        "        else:\n",
        "            sample_v = test_img\n",
        "\n",
        "        # Sample hidden conditioned on visible, then reconstruct visible from hidden\n",
        "        sample_h = sample_opposite_layer_pyqubo(sample_v,\n",
        "                                                     self.visible_bias, self.w,\n",
        "                                                     self.hidden_bias,\n",
        "                                                     qpu=self.qpu,\n",
        "                                                     chain_strength=self.cs)\n",
        "        sample_output = sample_opposite_layer_pyqubo(sample_h,\n",
        "                                                          self.hidden_bias,\n",
        "                                                          self.w.T,\n",
        "                                                          self.visible_bias,\n",
        "                                                          qpu=self.qpu,\n",
        "                                                          chain_strength=self.cs)\n",
        "        return sample_output\n",
        "\n",
        "\n",
        "    def evaluate(self, result, test_img = None):\n",
        "        # Compute minimal squared-error between `result` and any template in result_picture_tab.\n",
        "        # Returns scalar min_sum; smaller is better (0 means exact match).\n",
        "        min_sum = 1000000\n",
        "        for pic in self.result_picture_tab:\n",
        "            new_sum = np.sum((np.array(result) - np.array(pic)) ** 2)\n",
        "            if new_sum < min_sum:\n",
        "                min_sum = new_sum\n",
        "\n",
        "        return min_sum\n",
        "\n",
        "    def save(self, filename):\n",
        "        # Save model parameters to a human-readable text file.\n",
        "        with np.printoptions(threshold=sys.maxsize):\n",
        "            parameters = [str(self.n_hidden),\n",
        "                          str(self.n_visible),\n",
        "                          np.array_repr(self.visible_bias),\n",
        "                          np.array_repr(self.hidden_bias),\n",
        "                          np.array_repr(self.w)]\n",
        "            with open(filename, 'w') as file:\n",
        "                file.write('#'.join(parameters))\n",
        "\n",
        "\n",
        "    def load(self, filename):\n",
        "        # Load model parameters produced by save(). This uses eval() to reconstruct arrays.\n",
        "        with open(filename) as file:\n",
        "            res = file.read()\n",
        "            parameters = res.split('#')\n",
        "            self.n_hidden = eval(parameters[0])\n",
        "            self.n_visible = eval(parameters[1])\n",
        "            self.visible_bias = eval('np.'+parameters[2])\n",
        "            self.hidden_bias = eval('np.'+parameters[3])\n",
        "            self.w = eval('np.'+parameters[4])\n"
      ],
      "metadata": {
        "id": "xJvc-fAgd5yL"
      },
      "execution_count": null,
      "outputs": []
    },
    {
      "cell_type": "markdown",
      "source": [
        "## MNIST images implementation of MSQRBM"
      ],
      "metadata": {
        "id": "jEoQCdxwfG9Q"
      }
    },
    {
      "cell_type": "markdown",
      "source": [
        "Parameters"
      ],
      "metadata": {
        "id": "_Y1ETRQidVeA"
      }
    },
    {
      "cell_type": "code",
      "source": [
        "# Defining image sizes\n",
        "\n",
        "image_height = 28\n",
        "image_width = 28\n",
        "\n",
        "# images will be flattened\n",
        "len_x = image_height * image_width\n",
        "len_y = 0\n",
        "\n",
        "# Model Parameters\n",
        "digits = [0, 1]\n",
        "THRESHOLD = 100\n",
        "n_hidden = 30\n",
        "qpu = False\n",
        "epochs = 1000\n",
        "lr = 0.1"
      ],
      "metadata": {
        "id": "s4mLXjKfag28"
      },
      "execution_count": null,
      "outputs": []
    },
    {
      "cell_type": "markdown",
      "source": [
        "Dataset preprocessing"
      ],
      "metadata": {
        "id": "1k8RnntkdTLM"
      }
    },
    {
      "cell_type": "code",
      "source": [
        "# reading dataset using tensorflow.keras.datasets.mnist\n",
        "import tensorflow as tf\n",
        "from tensorflow.keras.datasets import mnist\n",
        "\n",
        "# Load MNIST dataset directly from tensorflow\n",
        "(x_train, y_train), (x_test, y_test) = mnist.load_data()\n",
        "\n",
        "# Convert to the same format as the original code\n",
        "# Create arrays to match the original structure\n",
        "X_train = x_train.reshape(x_train.shape[0], -1)  # Flatten images\n",
        "X_test = x_test.reshape(x_test.shape[0], -1)     # Flatten images\n",
        "\n",
        "# Create combined arrays with labels (similar to original CSV format)\n",
        "X_train2 = np.column_stack([y_train, X_train])\n",
        "X_test2 = np.column_stack([y_test, X_test])\n",
        "\n",
        "# Filter data for specific digits (same as original code)\n",
        "X_train3 = []\n",
        "X_test3 = []\n",
        "\n",
        "for digit in digits:\n",
        "    train_mask = y_train == digit\n",
        "    test_mask = y_test == digit\n",
        "    X_train3.append(X_train[train_mask])\n",
        "    X_test3.append(X_test[test_mask])\n",
        "\n",
        "# Since we're using tensorflow's MNIST, the data is already in the correct format\n",
        "# We just need to normalize it to [0,1] range\n",
        "imgs = []\n",
        "imgs_test = []\n",
        "for digit_index in range(len(digits)):\n",
        "    # X_train3 and X_test3 are already flattened, so we reshape them back to 28x28\n",
        "    imgs.append(X_train3[digit_index].reshape(-1, 28, 28) / 255.0)\n",
        "    imgs_test.append(X_test3[digit_index].reshape(-1, 28, 28) / 255.0)\n",
        "\n",
        "plt.imshow(imgs[0][0])\n",
        "plt.show()\n",
        "\n",
        "# Resizing images\n",
        "images_resized = []\n",
        "images_resized_test = []\n",
        "for digit_index in range(len(digits)):\n",
        "    images_resized.append([resize(img, (image_width, image_height), anti_aliasing=True) for img in imgs[digit_index]])\n",
        "    images_resized_test.append([resize(img, (image_width, image_height), anti_aliasing=True) for img in imgs_test[digit_index]])\n",
        "\n",
        "    # images_resized = [resize(img, (image_width, image_height), anti_aliasing=True) for img in imgs]\n",
        "\n",
        "# Normalizing images\n",
        "\n",
        "images_normalized = []\n",
        "images_normalized_test = []\n",
        "\n",
        "for digit_index in range(len(digits)):\n",
        "    images_normalized.append([cv.normalize(image_resized, image_resized, 0, 255, cv.NORM_MINMAX) for image_resized in images_resized[digit_index]])\n",
        "    images_normalized_test.append([cv.normalize(image_resized, image_resized, 0, 255, cv.NORM_MINMAX) for image_resized in images_resized_test[digit_index]])\n",
        "\n",
        "    # images_normalized = [cv.normalize(image_resized, image_resized, 0, 255, cv.NORM_MINMAX) for image_resized in images_resized]\n",
        "\n",
        "plt.imshow(images_normalized[0][0])\n",
        "plt.show()\n",
        "#Converting to binary\n",
        "\n",
        "data = []\n",
        "data_test = []\n",
        "for digit_index in range(len(digits)):\n",
        "    data.append([np.where(image_resized > THRESHOLD, 1, 0) for image_resized in images_resized[digit_index]])\n",
        "    data_test.append([np.where(image_resized > THRESHOLD, 1, 0) for image_resized in images_resized_test[digit_index]])\n",
        "\n",
        "# data = [np.where(image_resized > THRESHOLD, 1, 0) for image_resized in images_resized]\n",
        "\n",
        "plt.imshow(data[0][0])\n",
        "plt.show()\n",
        "\n",
        "# Flattening\n",
        "input_data = []\n",
        "input_data_test = []\n",
        "for digit_index in range(len(digits)):\n",
        "    input_data.append([x.flatten().tolist() for x in data[digit_index]])\n",
        "    input_data_test.append([x.flatten().tolist() for x in data_test[digit_index]])\n",
        "\n",
        "print(input_data[0][0])\n",
        "\n",
        "\n",
        "result_picture_tab = []\n",
        "for digit_index in range(len(digits)):\n",
        "    result_picture_tab.append(np.mean(input_data_test[digit_index], axis = 0))\n",
        "    for digit in digits:\n",
        "      flat_input_data = [item for sublist in input_data for item in sublist]\n",
        "      flat_input_data_test = [item for sublist in input_data_test for item in sublist]\n",
        "\n",
        "random.shuffle(flat_input_data)\n",
        "random.shuffle(flat_input_data_test)"
      ],
      "metadata": {
        "id": "AD-I8nMwbbb8",
        "colab": {
          "base_uri": "https://localhost:8080/",
          "height": 1000
        },
        "outputId": "bfbd053e-cdaa-47ab-eba9-34df9e520071"
      },
      "execution_count": null,
      "outputs": [
        {
          "output_type": "display_data",
          "data": {
            "text/plain": [
              "<Figure size 640x480 with 1 Axes>"
            ],
            "image/png": "[encoded data removed]"
          },
          "metadata": {}
        },
        {
          "output_type": "display_data",
          "data": {
            "text/plain": [
              "<Figure size 640x480 with 1 Axes>"
            ],
            "image/png": "[encoded data removed]"
          },
          "metadata": {}
        },
        {
          "output_type": "display_data",
          "data": {
            "text/plain": [
              "<Figure size 640x480 with 1 Axes>"
            ],
            "image/png": "[encoded data removed]"
          },
          "metadata": {}
        },
        {
          "output_type": "stream",
          "name": "stdout",
          "text": [
            "[0, 0, 0, 0, 0, 0, 0, 0, 0, 0, 0, 0, 0, 0, 0, 0, 0, 0, 0, 0, 0, 0, 0, 0, 0, 0, 0, 0, 0, 0, 0, 0, 0, 0, 0, 0, 0, 0, 0, 0, 0, 0, 0, 0, 0, 0, 0, 0, 0, 0, 0, 0, 0, 0, 0, 0, 0, 0, 0, 0, 0, 0, 0, 0, 0, 0, 0, 0, 0, 0, 0, 0, 0, 0, 0, 0, 0, 0, 0, 0, 0, 0, 0, 0, 0, 0, 0, 0, 0, 0, 0, 0, 0, 0, 0, 0, 0, 0, 0, 0, 0, 0, 0, 0, 0, 0, 0, 0, 0, 0, 0, 0, 0, 0, 0, 0, 0, 0, 0, 0, 0, 0, 0, 0, 0, 0, 0, 0, 1, 1, 1, 0, 0, 0, 0, 0, 0, 0, 0, 0, 0, 0, 0, 0, 0, 0, 0, 0, 0, 0, 0, 0, 0, 0, 0, 1, 1, 1, 1, 1, 0, 0, 0, 0, 0, 0, 0, 0, 0, 0, 0, 0, 0, 0, 0, 0, 0, 0, 0, 0, 0, 0, 1, 1, 1, 1, 1, 1, 0, 0, 0, 0, 0, 0, 0, 0, 0, 0, 0, 0, 0, 0, 0, 0, 0, 0, 0, 0, 0, 1, 1, 1, 1, 1, 0, 1, 1, 1, 0, 0, 0, 0, 0, 0, 0, 0, 0, 0, 0, 0, 0, 0, 0, 0, 0, 1, 1, 1, 1, 1, 1, 1, 0, 1, 1, 1, 0, 0, 0, 0, 0, 0, 0, 0, 0, 0, 0, 0, 0, 0, 0, 0, 0, 1, 1, 1, 1, 1, 1, 1, 0, 0, 1, 1, 0, 0, 0, 0, 0, 0, 0, 0, 0, 0, 0, 0, 0, 0, 0, 0, 1, 1, 1, 1, 0, 0, 1, 0, 0, 0, 1, 1, 0, 0, 0, 0, 0, 0, 0, 0, 0, 0, 0, 0, 0, 0, 0, 1, 1, 1, 1, 0, 0, 0, 0, 0, 0, 0, 1, 1, 1, 0, 0, 0, 0, 0, 0, 0, 0, 0, 0, 0, 0, 0, 1, 1, 1, 0, 0, 0, 0, 0, 0, 0, 0, 0, 1, 1, 1, 0, 0, 0, 0, 0, 0, 0, 0, 0, 0, 0, 0, 0, 1, 1, 0, 0, 0, 0, 0, 0, 0, 0, 0, 0, 1, 1, 1, 0, 0, 0, 0, 0, 0, 0, 0, 0, 0, 0, 0, 1, 1, 1, 0, 0, 0, 0, 0, 0, 0, 0, 0, 0, 1, 1, 1, 0, 0, 0, 0, 0, 0, 0, 0, 0, 0, 0, 0, 1, 1, 1, 0, 0, 0, 0, 0, 0, 0, 0, 0, 0, 1, 1, 1, 0, 0, 0, 0, 0, 0, 0, 0, 0, 0, 0, 0, 1, 1, 0, 0, 0, 0, 0, 0, 0, 0, 0, 0, 1, 1, 1, 0, 0, 0, 0, 0, 0, 0, 0, 0, 0, 0, 0, 0, 1, 1, 0, 0, 0, 0, 0, 0, 0, 0, 0, 1, 1, 1, 0, 0, 0, 0, 0, 0, 0, 0, 0, 0, 0, 0, 0, 0, 1, 1, 0, 0, 0, 0, 0, 0, 0, 0, 1, 1, 1, 0, 0, 0, 0, 0, 0, 0, 0, 0, 0, 0, 0, 0, 0, 0, 1, 1, 0, 0, 0, 0, 0, 0, 1, 1, 1, 1, 0, 0, 0, 0, 0, 0, 0, 0, 0, 0, 0, 0, 0, 0, 0, 0, 1, 1, 1, 0, 0, 0, 1, 1, 1, 1, 1, 0, 0, 0, 0, 0, 0, 0, 0, 0, 0, 0, 0, 0, 0, 0, 0, 0, 1, 1, 1, 1, 1, 1, 1, 1, 1, 1, 0, 0, 0, 0, 0, 0, 0, 0, 0, 0, 0, 0, 0, 0, 0, 0, 0, 0, 1, 1, 1, 1, 1, 1, 1, 1, 0, 0, 0, 0, 0, 0, 0, 0, 0, 0, 0, 0, 0, 0, 0, 0, 0, 0, 0, 0, 0, 1, 1, 1, 1, 1, 0, 0, 0, 0, 0, 0, 0, 0, 0, 0, 0, 0, 0, 0, 0, 0, 0, 0, 0, 0, 0, 0, 0, 0, 0, 0, 0, 0, 0, 0, 0, 0, 0, 0, 0, 0, 0, 0, 0, 0, 0, 0, 0, 0, 0, 0, 0, 0, 0, 0, 0, 0, 0, 0, 0, 0, 0, 0, 0, 0, 0, 0, 0, 0, 0, 0, 0, 0, 0, 0, 0, 0, 0, 0, 0, 0, 0, 0, 0, 0, 0, 0, 0, 0, 0, 0, 0, 0, 0, 0, 0, 0, 0, 0, 0, 0, 0, 0, 0, 0, 0, 0, 0, 0, 0, 0, 0, 0, 0, 0, 0, 0, 0, 0, 0, 0, 0, 0, 0, 0, 0, 0, 0, 0, 0, 0, 0]\n"
          ]
        }
      ]
    },
    {
      "cell_type": "code",
      "source": [
        "# BM Parameters\n",
        "n_hidden = 30\n",
        "qpu = False\n",
        "epochs = 1000\n",
        "lr = 0.1\n",
        "\n",
        "#initialization\n",
        "bm = MSQRBM(n_visible=len_x, n_hidden=n_hidden, qpu=qpu)\n",
        "bm.image_height = image_height\n",
        "bm.tqdm = tqdm\n",
        "bm.result_picture_tab = result_picture_tab"
      ],
      "metadata": {
        "id": "T2mD82kEb1pl"
      },
      "execution_count": null,
      "outputs": []
    },
    {
      "cell_type": "code",
      "source": [
        "bm.train(flat_input_data, len_x, len_y, epochs = epochs, lr = lr, lr_decay = 0.1)"
      ],
      "metadata": {
        "colab": {
          "base_uri": "https://localhost:8080/",
          "height": 533,
          "referenced_widgets": [
            "989a562482234c6f998dd40a2b0cb8f0",
            "cc350bdae48349278e031ffb5a5ba356",
            "ec722438d23347068149ced4b2514c8c",
            "24314037175d4df3a1db226881242bd7",
            "53d68624f5764f1788c0670de0e43382",
            "45da198b9edc41d6a5d2807fd5a4b893",
            "d3b8effe6be9417a8f7749a1342a3d42",
            "5fdf5a940ebb4825a3f3fb1bdec0ff28",
            "9c696ef872c540799c398c89e9fb9054",
            "d446dd70d63e41d9b1da8e3c76928fef",
            "2810c9012627411caef876b0e186abbd"
          ]
        },
        "id": "3HQJCWVWb6lt",
        "outputId": "4a59582f-cdaf-4dde-a495-7cc296ec67da"
      },
      "execution_count": null,
      "outputs": [
        {
          "output_type": "stream",
          "name": "stderr",
          "text": [
            "/tmp/ipython-input-4104885449.py:127: TqdmDeprecationWarning: This function will be removed in tqdm==5.0.0\n",
            "Please use `tqdm.notebook.tqdm` instead of `tqdm.tqdm_notebook`\n",
            "  for epoch in self.tqdm(range(epochs)):\n"
          ]
        },
        {
          "output_type": "display_data",
          "data": {
            "text/plain": [
              "  0%|          | 0/1000 [00:00<?, ?it/s]"
            ],
            "application/vnd.jupyter.widget-view+json": {
              "version_major": 2,
              "version_minor": 0,
              "model_id": "989a562482234c6f998dd40a2b0cb8f0"
            }
          },
          "metadata": {}
        },
        {
          "output_type": "display_data",
          "data": {
            "text/plain": [
              "<Figure size 640x480 with 1 Axes>"
            ],
            "image/png": "[encoded data removed]"
          },
          "metadata": {}
        }
      ]
    },
    {
      "cell_type": "code",
      "source": [
        "for test in range(5):\n",
        "    flat_input_data_test_img = np.reshape(flat_input_data_test[test], (image_width, image_height))\n",
        "    plt.figure()\n",
        "    plt.axis('off')\n",
        "    plt.title(\"Image from test set\", y=1.03)\n",
        "    plt.imshow(flat_input_data_test_img)\n",
        "    plt.show()\n",
        "\n",
        "    generated_pic = bm.generate(test_img = flat_input_data_test[test])\n",
        "    evaluation = bm.evaluate(generated_pic, flat_input_data_test[test])\n",
        "    print(\"evaluation: \", evaluation)\n",
        "#     print(generated_pic)\n",
        "    plt.figure()\n",
        "    plt.axis('off')\n",
        "    plt.title(\"Image reconstructed after training\", y=1.03)\n",
        "    plt.imshow(np.array(generated_pic).reshape(image_height, -1))"
      ],
      "metadata": {
        "colab": {
          "base_uri": "https://localhost:8080/",
          "height": 1000
        },
        "id": "S2a28k1hcAF0",
        "outputId": "80d72419-769f-4c4c-9c40-5ab93951c9f9"
      },
      "execution_count": null,
      "outputs": [
        {
          "output_type": "display_data",
          "data": {
            "text/plain": [
              "<Figure size 640x480 with 1 Axes>"
            ],
            "image/png": "[encoded data removed]"
          },
          "metadata": {}
        },
        {
          "output_type": "stream",
          "name": "stdout",
          "text": [
            "evaluation:  21.68607114440412\n"
          ]
        },
        {
          "output_type": "display_data",
          "data": {
            "text/plain": [
              "<Figure size 640x480 with 1 Axes>"
            ],
            "image/png": "[encoded data removed]"
          },
          "metadata": {}
        },
        {
          "output_type": "display_data",
          "data": {
            "text/plain": [
              "<Figure size 640x480 with 1 Axes>"
            ],
            "image/png": "[encoded data removed]"
          },
          "metadata": {}
        },
        {
          "output_type": "stream",
          "name": "stdout",
          "text": [
            "evaluation:  23.828802421937162\n"
          ]
        },
        {
          "output_type": "display_data",
          "data": {
            "text/plain": [
              "<Figure size 640x480 with 1 Axes>"
            ],
            "image/png": "[encoded data removed]"
          },
          "metadata": {}
        },
        {
          "output_type": "display_data",
          "data": {
            "text/plain": [
              "<Figure size 640x480 with 1 Axes>"
            ],
            "image/png": "[encoded data removed]"
          },
          "metadata": {}
        },
        {
          "output_type": "stream",
          "name": "stdout",
          "text": [
            "evaluation:  20.44554251004289\n"
          ]
        },
        {
          "output_type": "display_data",
          "data": {
            "text/plain": [
              "<Figure size 640x480 with 1 Axes>"
            ],
            "image/png": "[encoded data removed]"
          },
          "metadata": {}
        },
        {
          "output_type": "display_data",
          "data": {
            "text/plain": [
              "<Figure size 640x480 with 1 Axes>"
            ],
            "image/png": "[encoded data removed]"
          },
          "metadata": {}
        },
        {
          "output_type": "stream",
          "name": "stdout",
          "text": [
            "evaluation:  85.02143065389421\n"
          ]
        },
        {
          "output_type": "display_data",
          "data": {
            "text/plain": [
              "<Figure size 640x480 with 1 Axes>"
            ],
            "image/png": "[encoded data removed]"
          },
          "metadata": {}
        },
        {
          "output_type": "display_data",
          "data": {
            "text/plain": [
              "<Figure size 640x480 with 1 Axes>"
            ],
            "image/png": "[encoded data removed]"
          },
          "metadata": {}
        },
        {
          "output_type": "stream",
          "name": "stdout",
          "text": [
            "evaluation:  68.71530820491462\n"
          ]
        },
        {
          "output_type": "display_data",
          "data": {
            "text/plain": [
              "<Figure size 640x480 with 1 Axes>"
            ],
            "image/png": "[encoded data removed]"
          },
          "metadata": {}
        }
      ]
    },
    {
      "cell_type": "markdown",
      "source": [
        "## Appendix"
      ],
      "metadata": {
        "id": "xnHVfXv7V2LX"
      }
    },
    {
      "cell_type": "markdown",
      "source": [
        "`generate`\n",
        "\n",
        "The `generate` method performs one Gibbs pair (or solver-based approximation) and returns the reconstructed visible vector. Let the initial visible configuration be $v^{(0)}$ (provided as `test_img` or produced by the sampler). The method computes\n",
        "\n",
        "1. hidden sampling (conditioning on $v^{(0)}$):\n",
        "\n",
        "   $$\n",
        "   h^{(0)} \\approx \\arg\\min_{h} H_{\\text{cond}}(h\\mid v^{(0)})\\quad\\text{or}\\quad h^{(0)}\\sim p(h\\mid v^{(0)}),\n",
        "   $$\n",
        "\n",
        "   where $H_{\\text{cond}}(h\\mid v)= -b^\\top h - v^\\top W h$.\n",
        "2. visible reconstruction (conditioning on $h^{(0)}$):\n",
        "\n",
        "   $$\n",
        "   v^{(1)} \\approx \\arg\\min_{v} H_{\\text{cond}}(v\\mid h^{(0)})\\quad\\text{or}\\quad v^{(1)}\\sim p(v\\mid h^{(0)}),\n",
        "   $$\n",
        "\n",
        "   where $H_{\\text{cond}}(v\\mid h)= -a^\\top v - h^\\top W^\\top v$.\n",
        "\n",
        "The code uses an external sampler to perform these steps (solver semantics: typically returns low-energy assignments; Gibbs semantics: would return independent Bernoulli draws with probabilities given by the sigmoid). The method returns $v^{(1)}$.\n",
        "\n",
        "---\n",
        "\n",
        "`evaluate`\n",
        "\n",
        "Given a candidate visible vector $r$ and a repository $\\mathcal{P}=\\text{result\\_picture\\_tab}$ of reference vectors, the method computes the minimal squared Euclidean distance:\n",
        "\n",
        "$$\n",
        "\\text{evaluate}(r) \\;=\\; \\min_{p\\in\\mathcal{P}}\\|r-p\\|_2^2\n",
        "\\;=\\; \\min_{p\\in\\mathcal{P}}\\sum_i (r_i-p_i)^2.\n",
        "$$\n",
        "\n",
        "The returned scalar is a proximity score (0 indicates an exact match to at least one template).\n",
        "\n",
        "---\n",
        "`save` / `load`\n",
        "\n",
        "* `save` serializes the following fields into a single text record joined by `#`: `n_hidden`, `n_visible`, `visible_bias` (numpy representation), `hidden_bias` (numpy representation) and `w` (numpy representation). The file content is human-readable but structured as Python/numpy literals.\n",
        "* `load` reconstructs the values by splitting on `#` and using `eval` (with `'np.'` prepended for array literals) to recreate numpy objects.\n"
      ],
      "metadata": {
        "id": "1zyoDrRzkeTM"
      }
    },
    {
      "cell_type": "markdown",
      "source": [
        "The following commented methods sketch building a QUBO and sampling from it they are left as comments in the original code and are not executed."
      ],
      "metadata": {
        "id": "CGpIMRxUmSWh"
      }
    },
    {
      "cell_type": "code",
      "source": [
        "    # #Qubo is being built, otherwise it probably won't be possible to do it\n",
        "    # def set_qubo(self):\n",
        "    #     visible_bias = self.visible_bias\n",
        "    #     hidden_bias = self.hidden_bias\n",
        "    #     w = self.w\n",
        "    #\n",
        "    #     Q = {}\n",
        "    #     for i in range(self.n_visible):\n",
        "    #         Q[(i, i)] = -1 * visible_bias[i]\n",
        "    #     for j in range(self.n_hidden):\n",
        "    #         Q[(j + self.n_visible, j + self.n_visible)] = -1 * hidden_bias[j]\n",
        "    #     for i in range(self.n_visible):\n",
        "    #         for j in range(self.n_hidden):\n",
        "    #             Q[(i, self.n_visible + j)] = -1 * w[i][j]\n",
        "    #     self.Q = Q\n",
        "    #     # print(\"qubo: \", self.Q)\n",
        "    #\n",
        "    # def get_Z(self):\n",
        "    #     Z = np.sum(np.exp(-1 * self.energies))\n",
        "    #     self.Z = Z\n",
        "    #     return Z\n",
        "    #\n",
        "    # # I would handle it myself here\n",
        "    # def sample_qubo(self, num_samps=100):\n",
        "    #     if not hasattr(self, 'Q'):\n",
        "    #         self.set_qubo()\n",
        "    #     self.samples, self.energies, self.num_occurrences = self.sampler.sample_qubo(self.Q, num_samps=num_samps)\n",
        "    #     # self.samples, self.energies, self.num_occurrences = self.sampler.sample_qubo(self.Q, num_samps=1)\n",
        "    #     self.energies /= np.max(np.abs(self.energies))\n",
        "    #     self.get_Z()\n",
        "    #     return self.samples"
      ],
      "metadata": {
        "id": "a9amJp5YmAES"
      },
      "execution_count": null,
      "outputs": []
    },
    {
      "cell_type": "markdown",
      "source": [
        "##Conclusions\n"
      ],
      "metadata": {
        "id": "ep3c0kFbHzIA"
      }
    },
    {
      "cell_type": "markdown",
      "source": [
        "\n",
        "\n",
        "*   The MSQRBM uses a hybrid quantum/classical sampler for converts a conditional inference step in a bipartite model (visible ↔ hidden) into a small optimization/sampling problem expressed as a Binary Quadratic Model (BQM) that later is implemented on Dwave real quantum annealers.\n",
        "\n"
      ],
      "metadata": {
        "id": "wgtIX-kcH1Zi"
      }
    },
    {
      "cell_type": "markdown",
      "source": [
        "## References\n",
        "\n",
        "-  Subocz, M. (n.d.). Mareksubocz/QRBM: Implementation of quantum restricted Boltzmann machine using quantum annealing on D-wave’s QPU. GitHub. https://github.com/mareksubocz/QRBM\n",
        "-  Krzysztof, K., Mateusz, S., Marek, S., & Rafa\\l, R. (2021). Applying a Quantum Annealing Based Restricted Boltzmann Machine for MNIST Handwritten Digit Classification. CMST, 27(3), 99–107.\n",
        "- Nicholson, C. V. (n.d.). A beginner’s guide to restricted boltzmann machines (rbms) | pathmind. A.I. Wiki. https://wiki.pathmind.com/restricted-boltzmann-machine\n",
        "- Hinton, G. E. (2012). A practical guide to training restricted boltzmann machines. Lecture Notes in Computer Science, 599–619. https://doi.org/10.1007/978-3-642-35289-8_32\n",
        "- Models-BQM. Models - Python documentation. (n.d.). https://docs.dwavequantum.com/en/latest/concepts/models.html#concept-models-bqm\n",
        "- What is contrastive divergence: Ai basics: Ai online course. www.aionlinecourse.com. (n.d.). https://www.aionlinecourse.com/ai-basics/contrastive-divergence"
      ],
      "metadata": {
        "id": "xWwld6rRyFGh"
      }
    }
  ]
}